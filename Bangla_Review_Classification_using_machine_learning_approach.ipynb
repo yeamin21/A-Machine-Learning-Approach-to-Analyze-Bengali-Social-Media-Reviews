{
  "nbformat": 4,
  "nbformat_minor": 0,
  "metadata": {
    "colab": {
      "name": "Bangla Review Classification using machine learning approach.ipynb",
      "provenance": [],
      "collapsed_sections": [
        "YaJgcFbKYDIU",
        "CEhOoj-JX6Vv"
      ]
    },
    "interpreter": {
      "hash": "7b3e5f08a53c7ceaa749f34cc69a3abc038d5afa32f246b98ba3c8cea1db448d"
    },
    "kernelspec": {
      "display_name": "Python 3.9.6 64-bit",
      "name": "python3"
    },
    "language_info": {
      "codemirror_mode": {
        "name": "ipython",
        "version": 3
      },
      "file_extension": ".py",
      "mimetype": "text/x-python",
      "name": "python",
      "nbconvert_exporter": "python",
      "pygments_lexer": "ipython3",
      "version": "3.9.6"
    },
    "metadata": {
      "interpreter": {
        "hash": "7b3e5f08a53c7ceaa749f34cc69a3abc038d5afa32f246b98ba3c8cea1db448d"
      }
    }
  },
  "cells": [
    {
      "cell_type": "code",
      "metadata": {
        "id": "VEDI1-7gX6Vg"
      },
      "source": [
        "import os\n",
        "import pandas as pd"
      ],
      "execution_count": null,
      "outputs": []
    },
    {
      "cell_type": "markdown",
      "metadata": {
        "id": "bPzBtyfXhn2m"
      },
      "source": [
        "### Loading Data"
      ]
    },
    {
      "cell_type": "code",
      "metadata": {
        "id": "bSu7O0tDhnKW"
      },
      "source": [
        "existing_df = os.path.isfile(os.path.join(os.getcwd(),'df.xlsx'))\n",
        "if existing_df:\n",
        "  df = pd.read_excel(os.path.join(os.getcwd(),'df.xlsx'))\n",
        "else:\n",
        "  from google.colab import files\n",
        "  import io\n",
        "  uploaded = files.upload()\n",
        "  print(uploaded)\n",
        "  df = pd.read_excel(io.BytesIO(uploaded['df.xlsx']))\n"
      ],
      "execution_count": null,
      "outputs": []
    },
    {
      "cell_type": "markdown",
      "metadata": {
        "id": "MjHNxyL9X6Vj"
      },
      "source": [
        "# Data Visualization"
      ]
    },
    {
      "cell_type": "code",
      "metadata": {
        "colab": {
          "base_uri": "https://localhost:8080/",
          "height": 359
        },
        "id": "61g8EirFX6Vl",
        "outputId": "856705c1-0650-4af8-a2b8-16439491c87b"
      },
      "source": [
        "df.head(n=10)"
      ],
      "execution_count": null,
      "outputs": [
        {
          "output_type": "execute_result",
          "data": {
            "text/html": [
              "<div>\n",
              "<style scoped>\n",
              "    .dataframe tbody tr th:only-of-type {\n",
              "        vertical-align: middle;\n",
              "    }\n",
              "\n",
              "    .dataframe tbody tr th {\n",
              "        vertical-align: top;\n",
              "    }\n",
              "\n",
              "    .dataframe thead th {\n",
              "        text-align: right;\n",
              "    }\n",
              "</style>\n",
              "<table border=\"1\" class=\"dataframe\">\n",
              "  <thead>\n",
              "    <tr style=\"text-align: right;\">\n",
              "      <th></th>\n",
              "      <th>Review</th>\n",
              "      <th>Positive</th>\n",
              "      <th>Negative</th>\n",
              "      <th>Spam</th>\n",
              "    </tr>\n",
              "  </thead>\n",
              "  <tbody>\n",
              "    <tr>\n",
              "      <th>0</th>\n",
              "      <td>অসাধারণ নিশো বস্ আর অমি ভাইকেও।</td>\n",
              "      <td>1</td>\n",
              "      <td>0</td>\n",
              "      <td>0</td>\n",
              "    </tr>\n",
              "    <tr>\n",
              "      <th>1</th>\n",
              "      <td>আমার দেখা বেস্ট নাটক</td>\n",
              "      <td>1</td>\n",
              "      <td>0</td>\n",
              "      <td>0</td>\n",
              "    </tr>\n",
              "    <tr>\n",
              "      <th>2</th>\n",
              "      <td>নাটক টা অনেক সুন্দর হয়েছে,,,,আফরান নিশো ভাইয...</td>\n",
              "      <td>1</td>\n",
              "      <td>0</td>\n",
              "      <td>0</td>\n",
              "    </tr>\n",
              "    <tr>\n",
              "      <th>3</th>\n",
              "      <td>সত্যি অসাধারণ একটি রিলেশন</td>\n",
              "      <td>1</td>\n",
              "      <td>0</td>\n",
              "      <td>0</td>\n",
              "    </tr>\n",
              "    <tr>\n",
              "      <th>4</th>\n",
              "      <td>মজা পাইছি ভাষা গুলো কেমন লাগলো</td>\n",
              "      <td>1</td>\n",
              "      <td>0</td>\n",
              "      <td>0</td>\n",
              "    </tr>\n",
              "    <tr>\n",
              "      <th>5</th>\n",
              "      <td>খুব সুন্দর হয়েছে</td>\n",
              "      <td>1</td>\n",
              "      <td>0</td>\n",
              "      <td>0</td>\n",
              "    </tr>\n",
              "    <tr>\n",
              "      <th>6</th>\n",
              "      <td>অনেক হাসির একটা নাটক এবং রুমান্টিক</td>\n",
              "      <td>1</td>\n",
              "      <td>0</td>\n",
              "      <td>0</td>\n",
              "    </tr>\n",
              "    <tr>\n",
              "      <th>7</th>\n",
              "      <td>বিউটিফুল</td>\n",
              "      <td>1</td>\n",
              "      <td>0</td>\n",
              "      <td>0</td>\n",
              "    </tr>\n",
              "    <tr>\n",
              "      <th>8</th>\n",
              "      <td>ভাললোই লাগল</td>\n",
              "      <td>1</td>\n",
              "      <td>0</td>\n",
              "      <td>0</td>\n",
              "    </tr>\n",
              "    <tr>\n",
              "      <th>9</th>\n",
              "      <td>কখনো নাটক দেখে চোখে পানি আসেনি ,,,,but এই নাট...</td>\n",
              "      <td>1</td>\n",
              "      <td>0</td>\n",
              "      <td>0</td>\n",
              "    </tr>\n",
              "  </tbody>\n",
              "</table>\n",
              "</div>"
            ],
            "text/plain": [
              "                                              Review  Positive  Negative  Spam\n",
              "0                    অসাধারণ নিশো বস্ আর অমি ভাইকেও।         1         0     0\n",
              "1                               আমার দেখা বেস্ট নাটক         1         0     0\n",
              "2   নাটক টা অনেক সুন্দর হয়েছে,,,,আফরান নিশো ভাইয...         1         0     0\n",
              "3                          সত্যি অসাধারণ একটি রিলেশন         1         0     0\n",
              "4                     মজা পাইছি ভাষা গুলো কেমন লাগলো         1         0     0\n",
              "5                                  খুব সুন্দর হয়েছে         1         0     0\n",
              "6                 অনেক হাসির একটা নাটক এবং রুমান্টিক         1         0     0\n",
              "7                                           বিউটিফুল         1         0     0\n",
              "8                                        ভাললোই লাগল         1         0     0\n",
              "9   কখনো নাটক দেখে চোখে পানি আসেনি ,,,,but এই নাট...         1         0     0"
            ]
          },
          "metadata": {},
          "execution_count": 3
        }
      ]
    },
    {
      "cell_type": "code",
      "metadata": {
        "colab": {
          "base_uri": "https://localhost:8080/",
          "height": 638
        },
        "id": "XJnXkj5aX6Vm",
        "outputId": "a154082f-0fbe-45d3-d83e-1392eb80a7e3"
      },
      "source": [
        "df[1000:13000:600]"
      ],
      "execution_count": null,
      "outputs": [
        {
          "output_type": "execute_result",
          "data": {
            "text/html": [
              "<div>\n",
              "<style scoped>\n",
              "    .dataframe tbody tr th:only-of-type {\n",
              "        vertical-align: middle;\n",
              "    }\n",
              "\n",
              "    .dataframe tbody tr th {\n",
              "        vertical-align: top;\n",
              "    }\n",
              "\n",
              "    .dataframe thead th {\n",
              "        text-align: right;\n",
              "    }\n",
              "</style>\n",
              "<table border=\"1\" class=\"dataframe\">\n",
              "  <thead>\n",
              "    <tr style=\"text-align: right;\">\n",
              "      <th></th>\n",
              "      <th>Review</th>\n",
              "      <th>Positive</th>\n",
              "      <th>Negative</th>\n",
              "      <th>Spam</th>\n",
              "    </tr>\n",
              "  </thead>\n",
              "  <tbody>\n",
              "    <tr>\n",
              "      <th>1000</th>\n",
              "      <td>অসাধারণ......... প্রেমের নাটক খুব কম দেখি.......</td>\n",
              "      <td>1</td>\n",
              "      <td>0</td>\n",
              "      <td>0</td>\n",
              "    </tr>\n",
              "    <tr>\n",
              "      <th>1600</th>\n",
              "      <td>খুবই চমৎকার একটা নাটক,,,, অসাধারণ,,, আর বিশেষ...</td>\n",
              "      <td>1</td>\n",
              "      <td>0</td>\n",
              "      <td>0</td>\n",
              "    </tr>\n",
              "    <tr>\n",
              "      <th>2200</th>\n",
              "      <td>নাটক টা সত্যি অনেক ভালো লাগলো ।এমনিতেও নিশো ভ...</td>\n",
              "      <td>1</td>\n",
              "      <td>0</td>\n",
              "      <td>0</td>\n",
              "    </tr>\n",
              "    <tr>\n",
              "      <th>2800</th>\n",
              "      <td>প্রথম দেখার মোমেন্ট'টা অনেক সুন্দর ছিলো… লাভ ...</td>\n",
              "      <td>1</td>\n",
              "      <td>0</td>\n",
              "      <td>0</td>\n",
              "    </tr>\n",
              "    <tr>\n",
              "      <th>3400</th>\n",
              "      <td>আসলে রিয়েল হিরো অফ দ্যা আফরান নিশো।</td>\n",
              "      <td>1</td>\n",
              "      <td>0</td>\n",
              "      <td>0</td>\n",
              "    </tr>\n",
              "    <tr>\n",
              "      <th>4000</th>\n",
              "      <td>Batch - the last page  এই পেজে এসে আর নতুন কর...</td>\n",
              "      <td>1</td>\n",
              "      <td>0</td>\n",
              "      <td>0</td>\n",
              "    </tr>\n",
              "    <tr>\n",
              "      <th>4600</th>\n",
              "      <td>ভাল কিন্তু বাস্তব কঠিন</td>\n",
              "      <td>1</td>\n",
              "      <td>0</td>\n",
              "      <td>0</td>\n",
              "    </tr>\n",
              "    <tr>\n",
              "      <th>5200</th>\n",
              "      <td>নাটকটা ৩ বার দেখলাম। শামীম ভাই আপনি সেরা  ভাল...</td>\n",
              "      <td>1</td>\n",
              "      <td>0</td>\n",
              "      <td>0</td>\n",
              "    </tr>\n",
              "    <tr>\n",
              "      <th>5800</th>\n",
              "      <td>১ কথা অসাধারন</td>\n",
              "      <td>1</td>\n",
              "      <td>0</td>\n",
              "      <td>0</td>\n",
              "    </tr>\n",
              "    <tr>\n",
              "      <th>6400</th>\n",
              "      <td>কিছু না বললেই নয়, নাটকের পুরোটা চিত্র আমার এক...</td>\n",
              "      <td>1</td>\n",
              "      <td>0</td>\n",
              "      <td>0</td>\n",
              "    </tr>\n",
              "    <tr>\n",
              "      <th>7000</th>\n",
              "      <td>অনেক ভালো লাগলো। আল্লাহর কাছে প্রার্থনা করি আ...</td>\n",
              "      <td>1</td>\n",
              "      <td>0</td>\n",
              "      <td>0</td>\n",
              "    </tr>\n",
              "    <tr>\n",
              "      <th>7600</th>\n",
              "      <td>সবচেয়ে গুরুত্বপূর্ণ কথা আজকে বলেছে খুবই ভালো...</td>\n",
              "      <td>1</td>\n",
              "      <td>0</td>\n",
              "      <td>0</td>\n",
              "    </tr>\n",
              "    <tr>\n",
              "      <th>8200</th>\n",
              "      <td>মন ছুয়ে গেলো দুজনের অভিনয় দেখে।</td>\n",
              "      <td>1</td>\n",
              "      <td>0</td>\n",
              "      <td>0</td>\n",
              "    </tr>\n",
              "    <tr>\n",
              "      <th>8800</th>\n",
              "      <td>ফালতু নাটক। সময় নষ্ট...</td>\n",
              "      <td>0</td>\n",
              "      <td>1</td>\n",
              "      <td>0</td>\n",
              "    </tr>\n",
              "    <tr>\n",
              "      <th>9400</th>\n",
              "      <td>অশ্লিলতা বেশি</td>\n",
              "      <td>0</td>\n",
              "      <td>1</td>\n",
              "      <td>0</td>\n",
              "    </tr>\n",
              "    <tr>\n",
              "      <th>10000</th>\n",
              "      <td>Comments না করে পারলাম নাঅসাধারণ</td>\n",
              "      <td>0</td>\n",
              "      <td>1</td>\n",
              "      <td>0</td>\n",
              "    </tr>\n",
              "    <tr>\n",
              "      <th>10600</th>\n",
              "      <td>আচোদা শুভোদা নাটক</td>\n",
              "      <td>0</td>\n",
              "      <td>1</td>\n",
              "      <td>0</td>\n",
              "    </tr>\n",
              "    <tr>\n",
              "      <th>11200</th>\n",
              "      <td>শামীম হাছান সরকার এবং ফারহান টাকা পয়সার জন্য ...</td>\n",
              "      <td>0</td>\n",
              "      <td>1</td>\n",
              "      <td>0</td>\n",
              "    </tr>\n",
              "    <tr>\n",
              "      <th>11800</th>\n",
              "      <td>নাটকের অভিনয়ের সাথে মিউজিক মিলেনাই</td>\n",
              "      <td>0</td>\n",
              "      <td>1</td>\n",
              "      <td>0</td>\n",
              "    </tr>\n",
              "  </tbody>\n",
              "</table>\n",
              "</div>"
            ],
            "text/plain": [
              "                                                  Review  ...  Spam\n",
              "1000    অসাধারণ......... প্রেমের নাটক খুব কম দেখি.......  ...     0\n",
              "1600    খুবই চমৎকার একটা নাটক,,,, অসাধারণ,,, আর বিশেষ...  ...     0\n",
              "2200    নাটক টা সত্যি অনেক ভালো লাগলো ।এমনিতেও নিশো ভ...  ...     0\n",
              "2800    প্রথম দেখার মোমেন্ট'টা অনেক সুন্দর ছিলো… লাভ ...  ...     0\n",
              "3400                আসলে রিয়েল হিরো অফ দ্যা আফরান নিশো।  ...     0\n",
              "4000    Batch - the last page  এই পেজে এসে আর নতুন কর...  ...     0\n",
              "4600                              ভাল কিন্তু বাস্তব কঠিন  ...     0\n",
              "5200    নাটকটা ৩ বার দেখলাম। শামীম ভাই আপনি সেরা  ভাল...  ...     0\n",
              "5800                                       ১ কথা অসাধারন  ...     0\n",
              "6400    কিছু না বললেই নয়, নাটকের পুরোটা চিত্র আমার এক...  ...     0\n",
              "7000    অনেক ভালো লাগলো। আল্লাহর কাছে প্রার্থনা করি আ...  ...     0\n",
              "7600    সবচেয়ে গুরুত্বপূর্ণ কথা আজকে বলেছে খুবই ভালো...  ...     0\n",
              "8200                     মন ছুয়ে গেলো দুজনের অভিনয় দেখে।  ...     0\n",
              "8800                             ফালতু নাটক। সময় নষ্ট...  ...     0\n",
              "9400                                       অশ্লিলতা বেশি  ...     0\n",
              "10000                   Comments না করে পারলাম নাঅসাধারণ  ...     0\n",
              "10600                                  আচোদা শুভোদা নাটক  ...     0\n",
              "11200   শামীম হাছান সরকার এবং ফারহান টাকা পয়সার জন্য ...  ...     0\n",
              "11800                 নাটকের অভিনয়ের সাথে মিউজিক মিলেনাই  ...     0\n",
              "\n",
              "[19 rows x 4 columns]"
            ]
          },
          "metadata": {},
          "execution_count": 4
        }
      ]
    },
    {
      "cell_type": "code",
      "metadata": {
        "colab": {
          "base_uri": "https://localhost:8080/",
          "height": 359
        },
        "id": "8uz0B_3nX6Vm",
        "outputId": "07f356dd-8b65-471c-9e19-df1a04769e59"
      },
      "source": [
        "df.tail(n=10)"
      ],
      "execution_count": null,
      "outputs": [
        {
          "output_type": "execute_result",
          "data": {
            "text/html": [
              "<div>\n",
              "<style scoped>\n",
              "    .dataframe tbody tr th:only-of-type {\n",
              "        vertical-align: middle;\n",
              "    }\n",
              "\n",
              "    .dataframe tbody tr th {\n",
              "        vertical-align: top;\n",
              "    }\n",
              "\n",
              "    .dataframe thead th {\n",
              "        text-align: right;\n",
              "    }\n",
              "</style>\n",
              "<table border=\"1\" class=\"dataframe\">\n",
              "  <thead>\n",
              "    <tr style=\"text-align: right;\">\n",
              "      <th></th>\n",
              "      <th>Review</th>\n",
              "      <th>Positive</th>\n",
              "      <th>Negative</th>\n",
              "      <th>Spam</th>\n",
              "    </tr>\n",
              "  </thead>\n",
              "  <tbody>\n",
              "    <tr>\n",
              "      <th>11996</th>\n",
              "      <td>এই করোনাকালীন সময়ে ঘরে বসেই Aarong অনলাইন শপ থ...</td>\n",
              "      <td>0</td>\n",
              "      <td>0</td>\n",
              "      <td>1</td>\n",
              "    </tr>\n",
              "    <tr>\n",
              "      <th>11997</th>\n",
              "      <td>ভিশন আর আকাশ দিচ্ছে এক্সাইটিং বান্ডেল অফার। ভি...</td>\n",
              "      <td>0</td>\n",
              "      <td>0</td>\n",
              "      <td>1</td>\n",
              "    </tr>\n",
              "    <tr>\n",
              "      <th>11998</th>\n",
              "      <td>এই ৯ এবং ১০ জুলাই সেরা দামে ঘরে বসে সপ্তাহের ব...</td>\n",
              "      <td>0</td>\n",
              "      <td>0</td>\n",
              "      <td>1</td>\n",
              "    </tr>\n",
              "    <tr>\n",
              "      <th>11999</th>\n",
              "      <td>মোবাইল ফোন -এ , SPECIAL  DISCOUNT !\\nSAMSUNG M...</td>\n",
              "      <td>0</td>\n",
              "      <td>0</td>\n",
              "      <td>1</td>\n",
              "    </tr>\n",
              "    <tr>\n",
              "      <th>12000</th>\n",
              "      <td>এই করোনাকালীন সময়ে ঘরে বসেই Bata অনলাইন স্টোর ...</td>\n",
              "      <td>0</td>\n",
              "      <td>0</td>\n",
              "      <td>1</td>\n",
              "    </tr>\n",
              "    <tr>\n",
              "      <th>12001</th>\n",
              "      <td>ঈদ আনন্দের জোয়ার বইছে সারাদেশে। গত ২৭শে জুন আন...</td>\n",
              "      <td>0</td>\n",
              "      <td>0</td>\n",
              "      <td>1</td>\n",
              "    </tr>\n",
              "    <tr>\n",
              "      <th>12002</th>\n",
              "      <td>সারাদেশে ডেলিভারি হবে মাত্র ১০ দিনে!\\nZavaly F...</td>\n",
              "      <td>0</td>\n",
              "      <td>0</td>\n",
              "      <td>1</td>\n",
              "    </tr>\n",
              "    <tr>\n",
              "      <th>12003</th>\n",
              "      <td>এই ঈদে বিগ অফারে স্যামসাং টিভিতে উপভোগ করুন ৳১...</td>\n",
              "      <td>0</td>\n",
              "      <td>0</td>\n",
              "      <td>1</td>\n",
              "    </tr>\n",
              "    <tr>\n",
              "      <th>12004</th>\n",
              "      <td>সেরা MIXER GRINDER !\\nবাজারের সেরা, ALL-ROUNDE...</td>\n",
              "      <td>0</td>\n",
              "      <td>0</td>\n",
              "      <td>1</td>\n",
              "    </tr>\n",
              "    <tr>\n",
              "      <th>12005</th>\n",
              "      <td>Transtec Super Deal !!!\\nবিশ্বমানের TRANSTEC T...</td>\n",
              "      <td>0</td>\n",
              "      <td>0</td>\n",
              "      <td>1</td>\n",
              "    </tr>\n",
              "  </tbody>\n",
              "</table>\n",
              "</div>"
            ],
            "text/plain": [
              "                                                  Review  ...  Spam\n",
              "11996  এই করোনাকালীন সময়ে ঘরে বসেই Aarong অনলাইন শপ থ...  ...     1\n",
              "11997  ভিশন আর আকাশ দিচ্ছে এক্সাইটিং বান্ডেল অফার। ভি...  ...     1\n",
              "11998  এই ৯ এবং ১০ জুলাই সেরা দামে ঘরে বসে সপ্তাহের ব...  ...     1\n",
              "11999  মোবাইল ফোন -এ , SPECIAL  DISCOUNT !\\nSAMSUNG M...  ...     1\n",
              "12000  এই করোনাকালীন সময়ে ঘরে বসেই Bata অনলাইন স্টোর ...  ...     1\n",
              "12001  ঈদ আনন্দের জোয়ার বইছে সারাদেশে। গত ২৭শে জুন আন...  ...     1\n",
              "12002  সারাদেশে ডেলিভারি হবে মাত্র ১০ দিনে!\\nZavaly F...  ...     1\n",
              "12003  এই ঈদে বিগ অফারে স্যামসাং টিভিতে উপভোগ করুন ৳১...  ...     1\n",
              "12004  সেরা MIXER GRINDER !\\nবাজারের সেরা, ALL-ROUNDE...  ...     1\n",
              "12005  Transtec Super Deal !!!\\nবিশ্বমানের TRANSTEC T...  ...     1\n",
              "\n",
              "[10 rows x 4 columns]"
            ]
          },
          "metadata": {},
          "execution_count": 5
        }
      ]
    },
    {
      "cell_type": "code",
      "metadata": {
        "colab": {
          "base_uri": "https://localhost:8080/"
        },
        "id": "Jnlt1RBIX6Vn",
        "outputId": "aee03548-8ccd-433f-ed9f-5485dca76956"
      },
      "source": [
        "df.columns"
      ],
      "execution_count": null,
      "outputs": [
        {
          "output_type": "execute_result",
          "data": {
            "text/plain": [
              "Index(['Review', 'Positive', 'Negative', 'Spam'], dtype='object')"
            ]
          },
          "metadata": {},
          "execution_count": 6
        }
      ]
    },
    {
      "cell_type": "markdown",
      "metadata": {
        "id": "djLi3XP6X6Vo"
      },
      "source": [
        "### function to combine multiple colums according to their value"
      ]
    },
    {
      "cell_type": "code",
      "metadata": {
        "id": "ThL4_Kd5X6Vp"
      },
      "source": [
        "def to_single_column(x):\n",
        "    if x['Positive']==1:\n",
        "        return 'positive'\n",
        "    elif x['Negative']==1:\n",
        "        return 'negative'\n",
        "    elif x['Spam']==1:\n",
        "        return 'spam'\n",
        "   \n",
        "df['status']=df.apply(lambda row:to_single_column(row),axis=1)"
      ],
      "execution_count": null,
      "outputs": []
    },
    {
      "cell_type": "markdown",
      "metadata": {
        "id": "_HsXGvX1X6Vq"
      },
      "source": [
        "### dataframe after newly added column"
      ]
    },
    {
      "cell_type": "code",
      "metadata": {
        "colab": {
          "base_uri": "https://localhost:8080/",
          "height": 204
        },
        "id": "-p06n-liX6Vr",
        "outputId": "68b57daf-ebc9-4e43-8d17-71ecebc97a7f"
      },
      "source": [
        "df.head()"
      ],
      "execution_count": null,
      "outputs": [
        {
          "output_type": "execute_result",
          "data": {
            "text/html": [
              "<div>\n",
              "<style scoped>\n",
              "    .dataframe tbody tr th:only-of-type {\n",
              "        vertical-align: middle;\n",
              "    }\n",
              "\n",
              "    .dataframe tbody tr th {\n",
              "        vertical-align: top;\n",
              "    }\n",
              "\n",
              "    .dataframe thead th {\n",
              "        text-align: right;\n",
              "    }\n",
              "</style>\n",
              "<table border=\"1\" class=\"dataframe\">\n",
              "  <thead>\n",
              "    <tr style=\"text-align: right;\">\n",
              "      <th></th>\n",
              "      <th>Review</th>\n",
              "      <th>Positive</th>\n",
              "      <th>Negative</th>\n",
              "      <th>Spam</th>\n",
              "      <th>status</th>\n",
              "    </tr>\n",
              "  </thead>\n",
              "  <tbody>\n",
              "    <tr>\n",
              "      <th>0</th>\n",
              "      <td>অসাধারণ নিশো বস্ আর অমি ভাইকেও।</td>\n",
              "      <td>1</td>\n",
              "      <td>0</td>\n",
              "      <td>0</td>\n",
              "      <td>positive</td>\n",
              "    </tr>\n",
              "    <tr>\n",
              "      <th>1</th>\n",
              "      <td>আমার দেখা বেস্ট নাটক</td>\n",
              "      <td>1</td>\n",
              "      <td>0</td>\n",
              "      <td>0</td>\n",
              "      <td>positive</td>\n",
              "    </tr>\n",
              "    <tr>\n",
              "      <th>2</th>\n",
              "      <td>নাটক টা অনেক সুন্দর হয়েছে,,,,আফরান নিশো ভাইয...</td>\n",
              "      <td>1</td>\n",
              "      <td>0</td>\n",
              "      <td>0</td>\n",
              "      <td>positive</td>\n",
              "    </tr>\n",
              "    <tr>\n",
              "      <th>3</th>\n",
              "      <td>সত্যি অসাধারণ একটি রিলেশন</td>\n",
              "      <td>1</td>\n",
              "      <td>0</td>\n",
              "      <td>0</td>\n",
              "      <td>positive</td>\n",
              "    </tr>\n",
              "    <tr>\n",
              "      <th>4</th>\n",
              "      <td>মজা পাইছি ভাষা গুলো কেমন লাগলো</td>\n",
              "      <td>1</td>\n",
              "      <td>0</td>\n",
              "      <td>0</td>\n",
              "      <td>positive</td>\n",
              "    </tr>\n",
              "  </tbody>\n",
              "</table>\n",
              "</div>"
            ],
            "text/plain": [
              "                                              Review  Positive  ...  Spam    status\n",
              "0                    অসাধারণ নিশো বস্ আর অমি ভাইকেও।         1  ...     0  positive\n",
              "1                               আমার দেখা বেস্ট নাটক         1  ...     0  positive\n",
              "2   নাটক টা অনেক সুন্দর হয়েছে,,,,আফরান নিশো ভাইয...         1  ...     0  positive\n",
              "3                          সত্যি অসাধারণ একটি রিলেশন         1  ...     0  positive\n",
              "4                     মজা পাইছি ভাষা গুলো কেমন লাগলো         1  ...     0  positive\n",
              "\n",
              "[5 rows x 5 columns]"
            ]
          },
          "metadata": {},
          "execution_count": 8
        }
      ]
    },
    {
      "cell_type": "markdown",
      "metadata": {
        "id": "dwcKycsRX6Vr"
      },
      "source": [
        "# Data Preprocessing and NLP\n",
        "#### Tokenizing, Clearing Preposition, Removing of stopwords have been applied as part of NLP"
      ]
    },
    {
      "cell_type": "markdown",
      "metadata": {
        "id": "j4zOd6aOX6Vs"
      },
      "source": [
        "## Functions to preprocess data"
      ]
    },
    {
      "cell_type": "code",
      "metadata": {
        "colab": {
          "base_uri": "https://localhost:8080/"
        },
        "id": "p5rAn5eVYIQ-",
        "outputId": "2991d28c-64b5-443e-f139-008c3aca7c6f"
      },
      "source": [
        "!pip install emoji bltk"
      ],
      "execution_count": null,
      "outputs": [
        {
          "output_type": "stream",
          "text": [
            "Requirement already satisfied: emoji in /usr/local/lib/python3.7/dist-packages (1.4.2)\n",
            "Requirement already satisfied: bltk in /usr/local/lib/python3.7/dist-packages (1.2)\n",
            "Requirement already satisfied: scipy>=1.4.1 in /usr/local/lib/python3.7/dist-packages (from bltk) (1.4.1)\n",
            "Requirement already satisfied: joblib>=0.14.1 in /usr/local/lib/python3.7/dist-packages (from bltk) (1.0.1)\n",
            "Requirement already satisfied: sklearn>=0.0 in /usr/local/lib/python3.7/dist-packages (from bltk) (0.0)\n",
            "Requirement already satisfied: six>=1.13.0 in /usr/local/lib/python3.7/dist-packages (from bltk) (1.15.0)\n",
            "Requirement already satisfied: numpy>=1.18.1 in /usr/local/lib/python3.7/dist-packages (from bltk) (1.19.5)\n",
            "Requirement already satisfied: scikit-learn>=0.21.3 in /usr/local/lib/python3.7/dist-packages (from bltk) (0.22.2.post1)\n",
            "Requirement already satisfied: nltk>=3.4.5 in /usr/local/lib/python3.7/dist-packages (from bltk) (3.6.2)\n",
            "Requirement already satisfied: certifi>=2019.11.28 in /usr/local/lib/python3.7/dist-packages (from bltk) (2021.5.30)\n",
            "Requirement already satisfied: regex in /usr/local/lib/python3.7/dist-packages (from nltk>=3.4.5->bltk) (2019.12.20)\n",
            "Requirement already satisfied: click in /usr/local/lib/python3.7/dist-packages (from nltk>=3.4.5->bltk) (7.1.2)\n",
            "Requirement already satisfied: tqdm in /usr/local/lib/python3.7/dist-packages (from nltk>=3.4.5->bltk) (4.62.0)\n"
          ],
          "name": "stdout"
        }
      ]
    },
    {
      "cell_type": "code",
      "metadata": {
        "colab": {
          "base_uri": "https://localhost:8080/"
        },
        "id": "XC81THExnCKZ",
        "outputId": "c626d519-8cc1-4777-9829-1e18f36f85c5"
      },
      "source": [
        "!pip install git+https://github.com/yeamin21/Bangla-stemmer.git  #modified version of bangla_stemmer"
      ],
      "execution_count": null,
      "outputs": [
        {
          "output_type": "stream",
          "text": [
            "Collecting git+https://github.com/yeamin21/Bangla-stemmer.git\n",
            "  Cloning https://github.com/yeamin21/Bangla-stemmer.git to /tmp/pip-req-build-12lynern\n",
            "  Running command git clone -q https://github.com/yeamin21/Bangla-stemmer.git /tmp/pip-req-build-12lynern\n"
          ],
          "name": "stdout"
        }
      ]
    },
    {
      "cell_type": "code",
      "metadata": {
        "id": "ToIIzJugX6Vs"
      },
      "source": [
        "import emoji\n",
        "import re\n",
        "from bltk.langtools import remove_stopwords\n",
        "from bltk.langtools.banglachars import punctuations\n",
        "punctuation_xyz = punctuations+['#','*','_','&','+','/','%','@','=','<','>','!','^','`','|','©','®','´']\n",
        "from bangla_stemmer.stemmer import stemmer\n",
        "stmr = stemmer.BanglaStemmer()\n",
        "def clean(text):     \n",
        "    word = ''.join(character if u'\\u0980'<= character  <=u'\\u09E0' else ' ' for character in text)  #removing non bengali characters\n",
        "    word =  re.findall(r\"\\S+\",word)                                                                 #tokenizing\n",
        "    word = [stmr.stem(w) for w in word]                                                             #stemming\n",
        "    return remove_stopwords(word,level='hard')                                                      #removing stopwords\n"
      ],
      "execution_count": null,
      "outputs": []
    },
    {
      "cell_type": "code",
      "metadata": {
        "id": "4qPKc8O4X6Vt"
      },
      "source": [
        "def get_body_length(x):\n",
        "    x['body_length']=x[\"Review\"].apply(lambda text:  len(text) - text.count(' '))\n",
        "    return x"
      ],
      "execution_count": null,
      "outputs": []
    },
    {
      "cell_type": "code",
      "metadata": {
        "id": "MUHfDzKDX6Vt"
      },
      "source": [
        "def get_punctuation_percentage(x):\n",
        "    x['punctx%']=x[\"Review\"].apply(lambda text:  sum([character.count(character) \n",
        "        for character in text if not u'\\u0980'<= character  <=u'\\u09E0' if character !=' '])/100)\n",
        "    return x"
      ],
      "execution_count": null,
      "outputs": []
    },
    {
      "cell_type": "code",
      "metadata": {
        "id": "wg4r5fkdX6Vt"
      },
      "source": [
        "from sklearn.preprocessing import FunctionTransformer"
      ],
      "execution_count": null,
      "outputs": []
    },
    {
      "cell_type": "code",
      "metadata": {
        "id": "QEMz828PX6Vt"
      },
      "source": [
        "punctx = FunctionTransformer(get_punctuation_percentage)"
      ],
      "execution_count": null,
      "outputs": []
    },
    {
      "cell_type": "code",
      "metadata": {
        "id": "pOqNUqA6X6Vu"
      },
      "source": [
        "bodylen  = FunctionTransformer(get_body_length)"
      ],
      "execution_count": null,
      "outputs": []
    },
    {
      "cell_type": "code",
      "metadata": {
        "colab": {
          "base_uri": "https://localhost:8080/",
          "height": 419
        },
        "id": "92FFmcCxX6Vu",
        "outputId": "83337375-62ef-4f46-ed4b-2fcdcc59ab5b"
      },
      "source": [
        "punctx.transform(df)\n",
        "bodylen.transform(df)"
      ],
      "execution_count": null,
      "outputs": [
        {
          "output_type": "execute_result",
          "data": {
            "text/html": [
              "<div>\n",
              "<style scoped>\n",
              "    .dataframe tbody tr th:only-of-type {\n",
              "        vertical-align: middle;\n",
              "    }\n",
              "\n",
              "    .dataframe tbody tr th {\n",
              "        vertical-align: top;\n",
              "    }\n",
              "\n",
              "    .dataframe thead th {\n",
              "        text-align: right;\n",
              "    }\n",
              "</style>\n",
              "<table border=\"1\" class=\"dataframe\">\n",
              "  <thead>\n",
              "    <tr style=\"text-align: right;\">\n",
              "      <th></th>\n",
              "      <th>Review</th>\n",
              "      <th>Positive</th>\n",
              "      <th>Negative</th>\n",
              "      <th>Spam</th>\n",
              "      <th>status</th>\n",
              "      <th>punctx%</th>\n",
              "      <th>body_length</th>\n",
              "    </tr>\n",
              "  </thead>\n",
              "  <tbody>\n",
              "    <tr>\n",
              "      <th>0</th>\n",
              "      <td>অসাধারণ নিশো বস্ আর অমি ভাইকেও।</td>\n",
              "      <td>1</td>\n",
              "      <td>0</td>\n",
              "      <td>0</td>\n",
              "      <td>positive</td>\n",
              "      <td>0.01</td>\n",
              "      <td>26</td>\n",
              "    </tr>\n",
              "    <tr>\n",
              "      <th>1</th>\n",
              "      <td>আমার দেখা বেস্ট নাটক</td>\n",
              "      <td>1</td>\n",
              "      <td>0</td>\n",
              "      <td>0</td>\n",
              "      <td>positive</td>\n",
              "      <td>0.00</td>\n",
              "      <td>17</td>\n",
              "    </tr>\n",
              "    <tr>\n",
              "      <th>2</th>\n",
              "      <td>নাটক টা অনেক সুন্দর হয়েছে,,,,আফরান নিশো ভাইয...</td>\n",
              "      <td>1</td>\n",
              "      <td>0</td>\n",
              "      <td>0</td>\n",
              "      <td>positive</td>\n",
              "      <td>0.20</td>\n",
              "      <td>87</td>\n",
              "    </tr>\n",
              "    <tr>\n",
              "      <th>3</th>\n",
              "      <td>সত্যি অসাধারণ একটি রিলেশন</td>\n",
              "      <td>1</td>\n",
              "      <td>0</td>\n",
              "      <td>0</td>\n",
              "      <td>positive</td>\n",
              "      <td>0.00</td>\n",
              "      <td>22</td>\n",
              "    </tr>\n",
              "    <tr>\n",
              "      <th>4</th>\n",
              "      <td>মজা পাইছি ভাষা গুলো কেমন লাগলো</td>\n",
              "      <td>1</td>\n",
              "      <td>0</td>\n",
              "      <td>0</td>\n",
              "      <td>positive</td>\n",
              "      <td>0.00</td>\n",
              "      <td>25</td>\n",
              "    </tr>\n",
              "    <tr>\n",
              "      <th>...</th>\n",
              "      <td>...</td>\n",
              "      <td>...</td>\n",
              "      <td>...</td>\n",
              "      <td>...</td>\n",
              "      <td>...</td>\n",
              "      <td>...</td>\n",
              "      <td>...</td>\n",
              "    </tr>\n",
              "    <tr>\n",
              "      <th>12001</th>\n",
              "      <td>ঈদ আনন্দের জোয়ার বইছে সারাদেশে। গত ২৭শে জুন আন...</td>\n",
              "      <td>0</td>\n",
              "      <td>0</td>\n",
              "      <td>1</td>\n",
              "      <td>spam</td>\n",
              "      <td>0.61</td>\n",
              "      <td>353</td>\n",
              "    </tr>\n",
              "    <tr>\n",
              "      <th>12002</th>\n",
              "      <td>সারাদেশে ডেলিভারি হবে মাত্র ১০ দিনে!\\nZavaly F...</td>\n",
              "      <td>0</td>\n",
              "      <td>0</td>\n",
              "      <td>1</td>\n",
              "      <td>spam</td>\n",
              "      <td>0.69</td>\n",
              "      <td>204</td>\n",
              "    </tr>\n",
              "    <tr>\n",
              "      <th>12003</th>\n",
              "      <td>এই ঈদে বিগ অফারে স্যামসাং টিভিতে উপভোগ করুন ৳১...</td>\n",
              "      <td>0</td>\n",
              "      <td>0</td>\n",
              "      <td>1</td>\n",
              "      <td>spam</td>\n",
              "      <td>2.01</td>\n",
              "      <td>320</td>\n",
              "    </tr>\n",
              "    <tr>\n",
              "      <th>12004</th>\n",
              "      <td>সেরা MIXER GRINDER !\\nবাজারের সেরা, ALL-ROUNDE...</td>\n",
              "      <td>0</td>\n",
              "      <td>0</td>\n",
              "      <td>1</td>\n",
              "      <td>spam</td>\n",
              "      <td>1.14</td>\n",
              "      <td>161</td>\n",
              "    </tr>\n",
              "    <tr>\n",
              "      <th>12005</th>\n",
              "      <td>Transtec Super Deal !!!\\nবিশ্বমানের TRANSTEC T...</td>\n",
              "      <td>0</td>\n",
              "      <td>0</td>\n",
              "      <td>1</td>\n",
              "      <td>spam</td>\n",
              "      <td>0.93</td>\n",
              "      <td>157</td>\n",
              "    </tr>\n",
              "  </tbody>\n",
              "</table>\n",
              "<p>12006 rows × 7 columns</p>\n",
              "</div>"
            ],
            "text/plain": [
              "                                                  Review  ...  body_length\n",
              "0                        অসাধারণ নিশো বস্ আর অমি ভাইকেও।  ...           26\n",
              "1                                   আমার দেখা বেস্ট নাটক  ...           17\n",
              "2       নাটক টা অনেক সুন্দর হয়েছে,,,,আফরান নিশো ভাইয...  ...           87\n",
              "3                              সত্যি অসাধারণ একটি রিলেশন  ...           22\n",
              "4                         মজা পাইছি ভাষা গুলো কেমন লাগলো  ...           25\n",
              "...                                                  ...  ...          ...\n",
              "12001  ঈদ আনন্দের জোয়ার বইছে সারাদেশে। গত ২৭শে জুন আন...  ...          353\n",
              "12002  সারাদেশে ডেলিভারি হবে মাত্র ১০ দিনে!\\nZavaly F...  ...          204\n",
              "12003  এই ঈদে বিগ অফারে স্যামসাং টিভিতে উপভোগ করুন ৳১...  ...          320\n",
              "12004  সেরা MIXER GRINDER !\\nবাজারের সেরা, ALL-ROUNDE...  ...          161\n",
              "12005  Transtec Super Deal !!!\\nবিশ্বমানের TRANSTEC T...  ...          157\n",
              "\n",
              "[12006 rows x 7 columns]"
            ]
          },
          "metadata": {},
          "execution_count": 17
        }
      ]
    },
    {
      "cell_type": "code",
      "metadata": {
        "id": "G-SMAaGtX6Vu"
      },
      "source": [
        "df['cleaned'] = df['Review'].apply(lambda x: clean(x))"
      ],
      "execution_count": null,
      "outputs": []
    },
    {
      "cell_type": "code",
      "metadata": {
        "id": "55dMe3ZPX6Vu"
      },
      "source": [
        "df = df.drop(['Positive','Negative','Spam'],axis=1)"
      ],
      "execution_count": null,
      "outputs": []
    },
    {
      "cell_type": "markdown",
      "metadata": {
        "id": "YaJgcFbKYDIU"
      },
      "source": [
        "### Explore Cleaned Data"
      ]
    },
    {
      "cell_type": "code",
      "metadata": {
        "colab": {
          "base_uri": "https://localhost:8080/"
        },
        "id": "yn-SxNuJX6Vu",
        "outputId": "0b44a8bd-45d3-4007-fbdb-fb500845beb0"
      },
      "source": [
        "df.head()"
      ],
      "execution_count": null,
      "outputs": [
        {
          "output_type": "execute_result",
          "data": {
            "text/html": [
              "<div>\n",
              "<style scoped>\n",
              "    .dataframe tbody tr th:only-of-type {\n",
              "        vertical-align: middle;\n",
              "    }\n",
              "\n",
              "    .dataframe tbody tr th {\n",
              "        vertical-align: top;\n",
              "    }\n",
              "\n",
              "    .dataframe thead th {\n",
              "        text-align: right;\n",
              "    }\n",
              "</style>\n",
              "<table border=\"1\" class=\"dataframe\">\n",
              "  <thead>\n",
              "    <tr style=\"text-align: right;\">\n",
              "      <th></th>\n",
              "      <th>Review</th>\n",
              "      <th>status</th>\n",
              "      <th>punctx%</th>\n",
              "      <th>body_length</th>\n",
              "      <th>cleaned</th>\n",
              "    </tr>\n",
              "  </thead>\n",
              "  <tbody>\n",
              "    <tr>\n",
              "      <th>0</th>\n",
              "      <td>অসাধারণ নিশো বস্ আর অমি ভাইকেও।</td>\n",
              "      <td>positive</td>\n",
              "      <td>0.01</td>\n",
              "      <td>26</td>\n",
              "      <td>[অসাধারণ, নিশো, বস্, অমি, ভাইকেও]</td>\n",
              "    </tr>\n",
              "    <tr>\n",
              "      <th>1</th>\n",
              "      <td>আমার দেখা বেস্ট নাটক</td>\n",
              "      <td>positive</td>\n",
              "      <td>0.00</td>\n",
              "      <td>17</td>\n",
              "      <td>[আম, বেস্ট, নাটক]</td>\n",
              "    </tr>\n",
              "    <tr>\n",
              "      <th>2</th>\n",
              "      <td>নাটক টা অনেক সুন্দর হয়েছে,,,,আফরান নিশো ভাইয...</td>\n",
              "      <td>positive</td>\n",
              "      <td>0.20</td>\n",
              "      <td>87</td>\n",
              "      <td>[নাটক, টা, সুন্দর, আফরান, নিশো, ভাইয়া, বেস্ট,...</td>\n",
              "    </tr>\n",
              "    <tr>\n",
              "      <th>3</th>\n",
              "      <td>সত্যি অসাধারণ একটি রিলেশন</td>\n",
              "      <td>positive</td>\n",
              "      <td>0.00</td>\n",
              "      <td>22</td>\n",
              "      <td>[সত্যি, অসাধারণ, এক, রিলেশন]</td>\n",
              "    </tr>\n",
              "    <tr>\n",
              "      <th>4</th>\n",
              "      <td>মজা পাইছি ভাষা গুলো কেমন লাগলো</td>\n",
              "      <td>positive</td>\n",
              "      <td>0.00</td>\n",
              "      <td>25</td>\n",
              "      <td>[মজা, পাই, ভাষা, গুলো, কেমন, লাগলো]</td>\n",
              "    </tr>\n",
              "  </tbody>\n",
              "</table>\n",
              "</div>"
            ],
            "text/plain": [
              "                                              Review  ...                                            cleaned\n",
              "0                    অসাধারণ নিশো বস্ আর অমি ভাইকেও।  ...                  [অসাধারণ, নিশো, বস্, অমি, ভাইকেও]\n",
              "1                               আমার দেখা বেস্ট নাটক  ...                                  [আম, বেস্ট, নাটক]\n",
              "2   নাটক টা অনেক সুন্দর হয়েছে,,,,আফরান নিশো ভাইয...  ...  [নাটক, টা, সুন্দর, আফরান, নিশো, ভাইয়া, বেস্ট,...\n",
              "3                          সত্যি অসাধারণ একটি রিলেশন  ...                       [সত্যি, অসাধারণ, এক, রিলেশন]\n",
              "4                     মজা পাইছি ভাষা গুলো কেমন লাগলো  ...                [মজা, পাই, ভাষা, গুলো, কেমন, লাগলো]\n",
              "\n",
              "[5 rows x 5 columns]"
            ]
          },
          "metadata": {},
          "execution_count": 20
        }
      ]
    },
    {
      "cell_type": "code",
      "metadata": {
        "id": "-ZyTw4vKX6Vv"
      },
      "source": [
        "df = df.sample(frac=1).reset_index(drop=True)"
      ],
      "execution_count": null,
      "outputs": []
    },
    {
      "cell_type": "code",
      "metadata": {
        "colab": {
          "base_uri": "https://localhost:8080/"
        },
        "id": "vpoK4JDeX6Vv",
        "outputId": "05ad709a-8309-42b5-a9ef-ab9a4bbb7afb"
      },
      "source": [
        "df['status'].value_counts()"
      ],
      "execution_count": null,
      "outputs": [
        {
          "output_type": "execute_result",
          "data": {
            "text/plain": [
              "positive    8500\n",
              "negative    3307\n",
              "spam         199\n",
              "Name: status, dtype: int64"
            ]
          },
          "metadata": {},
          "execution_count": 22
        }
      ]
    },
    {
      "cell_type": "code",
      "metadata": {
        "colab": {
          "base_uri": "https://localhost:8080/"
        },
        "id": "IImf-dGDX6Vv",
        "outputId": "dc65d285-6d18-4f30-8ca1-3525b1177958"
      },
      "source": [
        "df.head(n=10)"
      ],
      "execution_count": null,
      "outputs": [
        {
          "output_type": "execute_result",
          "data": {
            "text/html": [
              "<div>\n",
              "<style scoped>\n",
              "    .dataframe tbody tr th:only-of-type {\n",
              "        vertical-align: middle;\n",
              "    }\n",
              "\n",
              "    .dataframe tbody tr th {\n",
              "        vertical-align: top;\n",
              "    }\n",
              "\n",
              "    .dataframe thead th {\n",
              "        text-align: right;\n",
              "    }\n",
              "</style>\n",
              "<table border=\"1\" class=\"dataframe\">\n",
              "  <thead>\n",
              "    <tr style=\"text-align: right;\">\n",
              "      <th></th>\n",
              "      <th>Review</th>\n",
              "      <th>status</th>\n",
              "      <th>punctx%</th>\n",
              "      <th>body_length</th>\n",
              "      <th>cleaned</th>\n",
              "    </tr>\n",
              "  </thead>\n",
              "  <tbody>\n",
              "    <tr>\n",
              "      <th>0</th>\n",
              "      <td>আরাফান নিশু ভাই নাটকটা সত্যি ভাল লাগছে</td>\n",
              "      <td>positive</td>\n",
              "      <td>0.00</td>\n",
              "      <td>32</td>\n",
              "      <td>[আরাফান, নিশু, ভাই, নাটক, সত্যি, ভাল, লাগ]</td>\n",
              "    </tr>\n",
              "    <tr>\n",
              "      <th>1</th>\n",
              "      <td>নাটকটা অনেক ভালোছিল। এই অভিনেত্রী অভিনেতারা গ...</td>\n",
              "      <td>positive</td>\n",
              "      <td>0.02</td>\n",
              "      <td>78</td>\n",
              "      <td>[নাটক, ভালোছিল, অভিনেত্রী, অভিনেতা, গ্রামগঞ্জ,...</td>\n",
              "    </tr>\n",
              "    <tr>\n",
              "      <th>2</th>\n",
              "      <td>নাটকে ওর বাপটাকে সহ্য হচ্ছে না। কুত্তা মার্কা ...</td>\n",
              "      <td>negative</td>\n",
              "      <td>0.01</td>\n",
              "      <td>42</td>\n",
              "      <td>[নাট, বাপ, সহ্য, হচ্, কুত্তা, মার্কা, নাটক]</td>\n",
              "    </tr>\n",
              "    <tr>\n",
              "      <th>3</th>\n",
              "      <td>নাপাক কুত্তা যে জিনিষে লাগে তা ৭বার ধৌত করতে ...</td>\n",
              "      <td>negative</td>\n",
              "      <td>0.10</td>\n",
              "      <td>91</td>\n",
              "      <td>[নাপাক, কুত্তা, জিনিষে, লাগে, ধৌত, কর, দেখলা, ...</td>\n",
              "    </tr>\n",
              "    <tr>\n",
              "      <th>4</th>\n",
              "      <td>দেখে আনন্দ পেয়েছি খুব ভালো লাগলো</td>\n",
              "      <td>positive</td>\n",
              "      <td>0.00</td>\n",
              "      <td>27</td>\n",
              "      <td>[দাখ, আনন্দ, পেয়েছি, ভালো, লাগলো]</td>\n",
              "    </tr>\n",
              "    <tr>\n",
              "      <th>5</th>\n",
              "      <td>মন ছুয়ে গেছে</td>\n",
              "      <td>positive</td>\n",
              "      <td>0.00</td>\n",
              "      <td>10</td>\n",
              "      <td>[মন, ছুয়ে, গেছ]</td>\n",
              "    </tr>\n",
              "    <tr>\n",
              "      <th>6</th>\n",
              "      <td>আমি পশ্চিমবঙ্গ থেকে বলছি শুধু যে এই নাটক টি আ...</td>\n",
              "      <td>positive</td>\n",
              "      <td>0.12</td>\n",
              "      <td>224</td>\n",
              "      <td>[পশ্চিমবঙ্গ, থেক, বল, নাটক, আম, ভালো, লাগ, আম,...</td>\n",
              "    </tr>\n",
              "    <tr>\n",
              "      <th>7</th>\n",
              "      <td>বাকি আছে সেই রকম গাজা খোর.</td>\n",
              "      <td>negative</td>\n",
              "      <td>0.01</td>\n",
              "      <td>21</td>\n",
              "      <td>[বাকি, আছ, গাজা, খোর]</td>\n",
              "    </tr>\n",
              "    <tr>\n",
              "      <th>8</th>\n",
              "      <td>ডিপজল ভারসন......বুঝ না.? দুদু খাও..নিশো ভারস...</td>\n",
              "      <td>negative</td>\n",
              "      <td>0.16</td>\n",
              "      <td>69</td>\n",
              "      <td>[ডিপজল, ভারসন, বুঝ, দুদু, খাও, নিশো, ভারসন, বো...</td>\n",
              "    </tr>\n",
              "    <tr>\n",
              "      <th>9</th>\n",
              "      <td>কিছু বলার নাইএক কথায় অসাধারণ প্রিয় জুটি</td>\n",
              "      <td>positive</td>\n",
              "      <td>0.00</td>\n",
              "      <td>35</td>\n",
              "      <td>[বল, নাইএক, কথায়, অসাধারণ, প্রিয়, জুটি]</td>\n",
              "    </tr>\n",
              "  </tbody>\n",
              "</table>\n",
              "</div>"
            ],
            "text/plain": [
              "                                              Review  ...                                            cleaned\n",
              "0             আরাফান নিশু ভাই নাটকটা সত্যি ভাল লাগছে  ...         [আরাফান, নিশু, ভাই, নাটক, সত্যি, ভাল, লাগ]\n",
              "1   নাটকটা অনেক ভালোছিল। এই অভিনেত্রী অভিনেতারা গ...  ...  [নাটক, ভালোছিল, অভিনেত্রী, অভিনেতা, গ্রামগঞ্জ,...\n",
              "2  নাটকে ওর বাপটাকে সহ্য হচ্ছে না। কুত্তা মার্কা ...  ...        [নাট, বাপ, সহ্য, হচ্, কুত্তা, মার্কা, নাটক]\n",
              "3   নাপাক কুত্তা যে জিনিষে লাগে তা ৭বার ধৌত করতে ...  ...  [নাপাক, কুত্তা, জিনিষে, লাগে, ধৌত, কর, দেখলা, ...\n",
              "4                   দেখে আনন্দ পেয়েছি খুব ভালো লাগলো  ...                  [দাখ, আনন্দ, পেয়েছি, ভালো, লাগলো]\n",
              "5                                       মন ছুয়ে গেছে  ...                                    [মন, ছুয়ে, গেছ]\n",
              "6   আমি পশ্চিমবঙ্গ থেকে বলছি শুধু যে এই নাটক টি আ...  ...  [পশ্চিমবঙ্গ, থেক, বল, নাটক, আম, ভালো, লাগ, আম,...\n",
              "7                         বাকি আছে সেই রকম গাজা খোর.  ...                              [বাকি, আছ, গাজা, খোর]\n",
              "8   ডিপজল ভারসন......বুঝ না.? দুদু খাও..নিশো ভারস...  ...  [ডিপজল, ভারসন, বুঝ, দুদু, খাও, নিশো, ভারসন, বো...\n",
              "9          কিছু বলার নাইএক কথায় অসাধারণ প্রিয় জুটি  ...          [বল, নাইএক, কথায়, অসাধারণ, প্রিয়, জুটি]\n",
              "\n",
              "[10 rows x 5 columns]"
            ]
          },
          "metadata": {},
          "execution_count": 23
        }
      ]
    },
    {
      "cell_type": "markdown",
      "metadata": {
        "id": "CEhOoj-JX6Vv"
      },
      "source": [
        "# Feature Extraction\n",
        "#### exploring multiple features and use the suitable one(s)"
      ]
    },
    {
      "cell_type": "code",
      "metadata": {
        "id": "kV1B-S71X6Vv"
      },
      "source": [
        "import numpy as np\n",
        "from matplotlib import pyplot\n",
        "%matplotlib inline"
      ],
      "execution_count": null,
      "outputs": []
    },
    {
      "cell_type": "code",
      "metadata": {
        "colab": {
          "base_uri": "https://localhost:8080/",
          "height": 281
        },
        "id": "QL7xO8v2X6Vv",
        "outputId": "d668dd86-cb81-4c62-e2ac-0274cc1bc3da"
      },
      "source": [
        "bins = np.linspace(0,200,40)\n",
        "pyplot.hist(df[df['status']=='spam']['body_length'],bins,alpha=0.3,density=True,label='spam')\n",
        "pyplot.hist(df[df['status']=='negative']['body_length'],bins, alpha=0.7,density=True, label='negative')\n",
        "pyplot.hist(df[df['status']=='positive']['body_length'],bins, alpha=0.9,density=True, label='positive')\n",
        "pyplot.legend(loc='upper right')\n",
        "pyplot.title('Text Length Distribution')\n",
        "pyplot.show()"
      ],
      "execution_count": null,
      "outputs": [
        {
          "output_type": "display_data",
          "data": {
            "image/png": "[encoded data removed]",
            "text/plain": [
              "<Figure size 432x288 with 1 Axes>"
            ]
          },
          "metadata": {
            "needs_background": "light"
          }
        }
      ]
    },
    {
      "cell_type": "code",
      "metadata": {
        "colab": {
          "base_uri": "https://localhost:8080/",
          "height": 281
        },
        "id": "SEVY8VitX6Vw",
        "outputId": "32f5857c-af43-44ed-895d-4f6fcdba2e60"
      },
      "source": [
        "bins = np.linspace(0,0.1,10)\n",
        "pyplot.hist(df[df['status']=='spam']['punctx%'],bins,alpha=0.3,density=True,label='spam')\n",
        "pyplot.hist(df[df['status']=='negative']['punctx%'],bins, alpha=0.7,density=True, label='negative')\n",
        "pyplot.hist(df[df['status']=='positive']['punctx%'],bins, alpha=0.9,density=True, label='positive' )\n",
        "pyplot.legend(loc='upper right')\n",
        "pyplot.title('Punctuation  Percent Distribution')\n",
        "pyplot.show()"
      ],
      "execution_count": null,
      "outputs": [
        {
          "output_type": "display_data",
          "data": {
            "image/png": "[encoded data removed]",
            "text/plain": [
              "<Figure size 432x288 with 1 Axes>"
            ]
          },
          "metadata": {
            "needs_background": "light"
          }
        }
      ]
    },
    {
      "cell_type": "code",
      "metadata": {
        "id": "fw2ZtuirX6Vw"
      },
      "source": [
        "from sklearn.feature_extraction.text import CountVectorizer"
      ],
      "execution_count": null,
      "outputs": []
    },
    {
      "cell_type": "code",
      "metadata": {
        "id": "u7_XhxfuX6Vw"
      },
      "source": [
        "vectorizer = CountVectorizer(tokenizer=clean)\n",
        "vectorizer_fit = vectorizer.fit_transform(df['Review'])"
      ],
      "execution_count": null,
      "outputs": []
    },
    {
      "cell_type": "code",
      "metadata": {
        "colab": {
          "base_uri": "https://localhost:8080/"
        },
        "id": "tdViRF39X6Vw",
        "outputId": "6e0cb60b-314a-43b6-d37f-88c9332628f9"
      },
      "source": [
        "vectorizer_fit.shape"
      ],
      "execution_count": null,
      "outputs": [
        {
          "output_type": "execute_result",
          "data": {
            "text/plain": [
              "(12006, 12123)"
            ]
          },
          "metadata": {},
          "execution_count": 29
        }
      ]
    },
    {
      "cell_type": "code",
      "metadata": {
        "id": "voHSk-73X6Vx"
      },
      "source": [
        "vectored_df = pd.DataFrame(vectorizer_fit.toarray())"
      ],
      "execution_count": null,
      "outputs": []
    },
    {
      "cell_type": "code",
      "metadata": {
        "id": "djz2J4vMX6Vx"
      },
      "source": [
        "vectored_df.columns=vectorizer.get_feature_names() "
      ],
      "execution_count": null,
      "outputs": []
    },
    {
      "cell_type": "code",
      "metadata": {
        "id": "N7XePAdRX6Vx",
        "colab": {
          "base_uri": "https://localhost:8080/",
          "height": 253
        },
        "outputId": "7e0cab83-a1e2-49c8-88f1-07078ff3f2f6"
      },
      "source": [
        "vectored_df.head()"
      ],
      "execution_count": null,
      "outputs": [
        {
          "output_type": "execute_result",
          "data": {
            "text/html": [
              "<div>\n",
              "<style scoped>\n",
              "    .dataframe tbody tr th:only-of-type {\n",
              "        vertical-align: middle;\n",
              "    }\n",
              "\n",
              "    .dataframe tbody tr th {\n",
              "        vertical-align: top;\n",
              "    }\n",
              "\n",
              "    .dataframe thead th {\n",
              "        text-align: right;\n",
              "    }\n",
              "</style>\n",
              "<table border=\"1\" class=\"dataframe\">\n",
              "  <thead>\n",
              "    <tr style=\"text-align: right;\">\n",
              "      <th></th>\n",
              "      <th>ংঅনেক</th>\n",
              "      <th>ঃ</th>\n",
              "      <th>অ</th>\n",
              "      <th>অঁনেক</th>\n",
              "      <th>অংকুরে</th>\n",
              "      <th>অংগ</th>\n",
              "      <th>অংগভঙ্গি</th>\n",
              "      <th>অংগভঙ্গী</th>\n",
              "      <th>অংশ</th>\n",
              "      <th>অংশগ্রহন</th>\n",
              "      <th>অংশটুকু</th>\n",
              "      <th>অংশে</th>\n",
              "      <th>অঅসাধারণ</th>\n",
              "      <th>অই</th>\n",
              "      <th>অইয়া</th>\n",
              "      <th>অউ</th>\n",
              "      <th>অওসাম</th>\n",
              "      <th>অকল্পনীয়</th>\n",
              "      <th>অকৃএিম</th>\n",
              "      <th>অকৃত্রিম</th>\n",
              "      <th>অক্কল</th>\n",
              "      <th>অক্লান্ত</th>\n",
              "      <th>অক্সিজ</th>\n",
              "      <th>অখাদ্য</th>\n",
              "      <th>অখুশি</th>\n",
              "      <th>অগাস্ট</th>\n",
              "      <th>অগুছালু</th>\n",
              "      <th>অগুছালো</th>\n",
              "      <th>অগোচরে</th>\n",
              "      <th>অগোছালো</th>\n",
              "      <th>অগ্নিকান্ড</th>\n",
              "      <th>অগ্রযাত্</th>\n",
              "      <th>অগ্রসর</th>\n",
              "      <th>অগ্রাধিক</th>\n",
              "      <th>অগ্রাহ্য</th>\n",
              "      <th>অগ্রিম</th>\n",
              "      <th>অগ্রীম</th>\n",
              "      <th>অঙ্গন</th>\n",
              "      <th>অঙ্গনে</th>\n",
              "      <th>অঙ্গবঙ্গি</th>\n",
              "      <th>...</th>\n",
              "      <th>া</th>\n",
              "      <th>াজ</th>\n",
              "      <th>ামে</th>\n",
              "      <th>িক</th>\n",
              "      <th>িচাল</th>\n",
              "      <th>িচালক</th>\n",
              "      <th>িরিক্ত</th>\n",
              "      <th>িয়াদ</th>\n",
              "      <th>িয়েল</th>\n",
              "      <th>ী</th>\n",
              "      <th>ু</th>\n",
              "      <th>ে</th>\n",
              "      <th>েচয়</th>\n",
              "      <th>েদওয়াতে</th>\n",
              "      <th>েদখা</th>\n",
              "      <th>েয়ার</th>\n",
              "      <th>ো</th>\n",
              "      <th>োঅনেক</th>\n",
              "      <th>্</th>\n",
              "      <th>্য</th>\n",
              "      <th>্যবাদ</th>\n",
              "      <th>্যমান</th>\n",
              "      <th>্যস্ত</th>\n",
              "      <th>্যাংগস</th>\n",
              "      <th>্যাচ</th>\n",
              "      <th>্যি</th>\n",
              "      <th>্যেক</th>\n",
              "      <th>্হাহা</th>\n",
              "      <th>ড়িস</th>\n",
              "      <th>ঢ়ুকায়</th>\n",
              "      <th>য়</th>\n",
              "      <th>য়দি</th>\n",
              "      <th>য়া</th>\n",
              "      <th>য়ার</th>\n",
              "      <th>য়ায়</th>\n",
              "      <th>য়ে</th>\n",
              "      <th>য়েক</th>\n",
              "      <th>য়েনো</th>\n",
              "      <th>য়ের</th>\n",
              "      <th>য়েলী</th>\n",
              "    </tr>\n",
              "  </thead>\n",
              "  <tbody>\n",
              "    <tr>\n",
              "      <th>0</th>\n",
              "      <td>0</td>\n",
              "      <td>0</td>\n",
              "      <td>0</td>\n",
              "      <td>0</td>\n",
              "      <td>0</td>\n",
              "      <td>0</td>\n",
              "      <td>0</td>\n",
              "      <td>0</td>\n",
              "      <td>0</td>\n",
              "      <td>0</td>\n",
              "      <td>0</td>\n",
              "      <td>0</td>\n",
              "      <td>0</td>\n",
              "      <td>0</td>\n",
              "      <td>0</td>\n",
              "      <td>0</td>\n",
              "      <td>0</td>\n",
              "      <td>0</td>\n",
              "      <td>0</td>\n",
              "      <td>0</td>\n",
              "      <td>0</td>\n",
              "      <td>0</td>\n",
              "      <td>0</td>\n",
              "      <td>0</td>\n",
              "      <td>0</td>\n",
              "      <td>0</td>\n",
              "      <td>0</td>\n",
              "      <td>0</td>\n",
              "      <td>0</td>\n",
              "      <td>0</td>\n",
              "      <td>0</td>\n",
              "      <td>0</td>\n",
              "      <td>0</td>\n",
              "      <td>0</td>\n",
              "      <td>0</td>\n",
              "      <td>0</td>\n",
              "      <td>0</td>\n",
              "      <td>0</td>\n",
              "      <td>0</td>\n",
              "      <td>0</td>\n",
              "      <td>...</td>\n",
              "      <td>0</td>\n",
              "      <td>0</td>\n",
              "      <td>0</td>\n",
              "      <td>0</td>\n",
              "      <td>0</td>\n",
              "      <td>0</td>\n",
              "      <td>0</td>\n",
              "      <td>0</td>\n",
              "      <td>0</td>\n",
              "      <td>0</td>\n",
              "      <td>0</td>\n",
              "      <td>0</td>\n",
              "      <td>0</td>\n",
              "      <td>0</td>\n",
              "      <td>0</td>\n",
              "      <td>0</td>\n",
              "      <td>0</td>\n",
              "      <td>0</td>\n",
              "      <td>0</td>\n",
              "      <td>0</td>\n",
              "      <td>0</td>\n",
              "      <td>0</td>\n",
              "      <td>0</td>\n",
              "      <td>0</td>\n",
              "      <td>0</td>\n",
              "      <td>0</td>\n",
              "      <td>0</td>\n",
              "      <td>0</td>\n",
              "      <td>0</td>\n",
              "      <td>0</td>\n",
              "      <td>0</td>\n",
              "      <td>0</td>\n",
              "      <td>0</td>\n",
              "      <td>0</td>\n",
              "      <td>0</td>\n",
              "      <td>0</td>\n",
              "      <td>0</td>\n",
              "      <td>0</td>\n",
              "      <td>0</td>\n",
              "      <td>0</td>\n",
              "    </tr>\n",
              "    <tr>\n",
              "      <th>1</th>\n",
              "      <td>0</td>\n",
              "      <td>0</td>\n",
              "      <td>0</td>\n",
              "      <td>0</td>\n",
              "      <td>0</td>\n",
              "      <td>0</td>\n",
              "      <td>0</td>\n",
              "      <td>0</td>\n",
              "      <td>0</td>\n",
              "      <td>0</td>\n",
              "      <td>0</td>\n",
              "      <td>0</td>\n",
              "      <td>0</td>\n",
              "      <td>0</td>\n",
              "      <td>0</td>\n",
              "      <td>0</td>\n",
              "      <td>0</td>\n",
              "      <td>0</td>\n",
              "      <td>0</td>\n",
              "      <td>0</td>\n",
              "      <td>0</td>\n",
              "      <td>0</td>\n",
              "      <td>0</td>\n",
              "      <td>0</td>\n",
              "      <td>0</td>\n",
              "      <td>0</td>\n",
              "      <td>0</td>\n",
              "      <td>0</td>\n",
              "      <td>0</td>\n",
              "      <td>0</td>\n",
              "      <td>0</td>\n",
              "      <td>0</td>\n",
              "      <td>0</td>\n",
              "      <td>0</td>\n",
              "      <td>0</td>\n",
              "      <td>0</td>\n",
              "      <td>0</td>\n",
              "      <td>0</td>\n",
              "      <td>0</td>\n",
              "      <td>0</td>\n",
              "      <td>...</td>\n",
              "      <td>0</td>\n",
              "      <td>0</td>\n",
              "      <td>0</td>\n",
              "      <td>0</td>\n",
              "      <td>0</td>\n",
              "      <td>0</td>\n",
              "      <td>0</td>\n",
              "      <td>0</td>\n",
              "      <td>0</td>\n",
              "      <td>0</td>\n",
              "      <td>0</td>\n",
              "      <td>0</td>\n",
              "      <td>0</td>\n",
              "      <td>0</td>\n",
              "      <td>0</td>\n",
              "      <td>0</td>\n",
              "      <td>0</td>\n",
              "      <td>0</td>\n",
              "      <td>0</td>\n",
              "      <td>0</td>\n",
              "      <td>0</td>\n",
              "      <td>0</td>\n",
              "      <td>0</td>\n",
              "      <td>0</td>\n",
              "      <td>0</td>\n",
              "      <td>0</td>\n",
              "      <td>0</td>\n",
              "      <td>0</td>\n",
              "      <td>0</td>\n",
              "      <td>0</td>\n",
              "      <td>0</td>\n",
              "      <td>0</td>\n",
              "      <td>0</td>\n",
              "      <td>0</td>\n",
              "      <td>0</td>\n",
              "      <td>0</td>\n",
              "      <td>0</td>\n",
              "      <td>0</td>\n",
              "      <td>0</td>\n",
              "      <td>0</td>\n",
              "    </tr>\n",
              "    <tr>\n",
              "      <th>2</th>\n",
              "      <td>0</td>\n",
              "      <td>0</td>\n",
              "      <td>0</td>\n",
              "      <td>0</td>\n",
              "      <td>0</td>\n",
              "      <td>0</td>\n",
              "      <td>0</td>\n",
              "      <td>0</td>\n",
              "      <td>0</td>\n",
              "      <td>0</td>\n",
              "      <td>0</td>\n",
              "      <td>0</td>\n",
              "      <td>0</td>\n",
              "      <td>0</td>\n",
              "      <td>0</td>\n",
              "      <td>0</td>\n",
              "      <td>0</td>\n",
              "      <td>0</td>\n",
              "      <td>0</td>\n",
              "      <td>0</td>\n",
              "      <td>0</td>\n",
              "      <td>0</td>\n",
              "      <td>0</td>\n",
              "      <td>0</td>\n",
              "      <td>0</td>\n",
              "      <td>0</td>\n",
              "      <td>0</td>\n",
              "      <td>0</td>\n",
              "      <td>0</td>\n",
              "      <td>0</td>\n",
              "      <td>0</td>\n",
              "      <td>0</td>\n",
              "      <td>0</td>\n",
              "      <td>0</td>\n",
              "      <td>0</td>\n",
              "      <td>0</td>\n",
              "      <td>0</td>\n",
              "      <td>0</td>\n",
              "      <td>0</td>\n",
              "      <td>0</td>\n",
              "      <td>...</td>\n",
              "      <td>0</td>\n",
              "      <td>0</td>\n",
              "      <td>0</td>\n",
              "      <td>0</td>\n",
              "      <td>0</td>\n",
              "      <td>0</td>\n",
              "      <td>0</td>\n",
              "      <td>0</td>\n",
              "      <td>0</td>\n",
              "      <td>0</td>\n",
              "      <td>0</td>\n",
              "      <td>0</td>\n",
              "      <td>0</td>\n",
              "      <td>0</td>\n",
              "      <td>0</td>\n",
              "      <td>0</td>\n",
              "      <td>0</td>\n",
              "      <td>0</td>\n",
              "      <td>0</td>\n",
              "      <td>0</td>\n",
              "      <td>0</td>\n",
              "      <td>0</td>\n",
              "      <td>0</td>\n",
              "      <td>0</td>\n",
              "      <td>0</td>\n",
              "      <td>0</td>\n",
              "      <td>0</td>\n",
              "      <td>0</td>\n",
              "      <td>0</td>\n",
              "      <td>0</td>\n",
              "      <td>0</td>\n",
              "      <td>0</td>\n",
              "      <td>0</td>\n",
              "      <td>0</td>\n",
              "      <td>0</td>\n",
              "      <td>0</td>\n",
              "      <td>0</td>\n",
              "      <td>0</td>\n",
              "      <td>0</td>\n",
              "      <td>0</td>\n",
              "    </tr>\n",
              "    <tr>\n",
              "      <th>3</th>\n",
              "      <td>0</td>\n",
              "      <td>0</td>\n",
              "      <td>0</td>\n",
              "      <td>0</td>\n",
              "      <td>0</td>\n",
              "      <td>0</td>\n",
              "      <td>0</td>\n",
              "      <td>0</td>\n",
              "      <td>0</td>\n",
              "      <td>0</td>\n",
              "      <td>0</td>\n",
              "      <td>0</td>\n",
              "      <td>0</td>\n",
              "      <td>0</td>\n",
              "      <td>0</td>\n",
              "      <td>0</td>\n",
              "      <td>0</td>\n",
              "      <td>0</td>\n",
              "      <td>0</td>\n",
              "      <td>0</td>\n",
              "      <td>0</td>\n",
              "      <td>0</td>\n",
              "      <td>0</td>\n",
              "      <td>0</td>\n",
              "      <td>0</td>\n",
              "      <td>0</td>\n",
              "      <td>0</td>\n",
              "      <td>0</td>\n",
              "      <td>0</td>\n",
              "      <td>0</td>\n",
              "      <td>0</td>\n",
              "      <td>0</td>\n",
              "      <td>0</td>\n",
              "      <td>0</td>\n",
              "      <td>0</td>\n",
              "      <td>0</td>\n",
              "      <td>0</td>\n",
              "      <td>0</td>\n",
              "      <td>0</td>\n",
              "      <td>0</td>\n",
              "      <td>...</td>\n",
              "      <td>0</td>\n",
              "      <td>0</td>\n",
              "      <td>0</td>\n",
              "      <td>0</td>\n",
              "      <td>0</td>\n",
              "      <td>0</td>\n",
              "      <td>0</td>\n",
              "      <td>0</td>\n",
              "      <td>0</td>\n",
              "      <td>0</td>\n",
              "      <td>0</td>\n",
              "      <td>0</td>\n",
              "      <td>0</td>\n",
              "      <td>0</td>\n",
              "      <td>0</td>\n",
              "      <td>0</td>\n",
              "      <td>0</td>\n",
              "      <td>0</td>\n",
              "      <td>0</td>\n",
              "      <td>0</td>\n",
              "      <td>0</td>\n",
              "      <td>0</td>\n",
              "      <td>0</td>\n",
              "      <td>0</td>\n",
              "      <td>0</td>\n",
              "      <td>0</td>\n",
              "      <td>0</td>\n",
              "      <td>0</td>\n",
              "      <td>0</td>\n",
              "      <td>0</td>\n",
              "      <td>0</td>\n",
              "      <td>0</td>\n",
              "      <td>0</td>\n",
              "      <td>0</td>\n",
              "      <td>0</td>\n",
              "      <td>0</td>\n",
              "      <td>0</td>\n",
              "      <td>0</td>\n",
              "      <td>0</td>\n",
              "      <td>0</td>\n",
              "    </tr>\n",
              "    <tr>\n",
              "      <th>4</th>\n",
              "      <td>0</td>\n",
              "      <td>0</td>\n",
              "      <td>0</td>\n",
              "      <td>0</td>\n",
              "      <td>0</td>\n",
              "      <td>0</td>\n",
              "      <td>0</td>\n",
              "      <td>0</td>\n",
              "      <td>0</td>\n",
              "      <td>0</td>\n",
              "      <td>0</td>\n",
              "      <td>0</td>\n",
              "      <td>0</td>\n",
              "      <td>0</td>\n",
              "      <td>0</td>\n",
              "      <td>0</td>\n",
              "      <td>0</td>\n",
              "      <td>0</td>\n",
              "      <td>0</td>\n",
              "      <td>0</td>\n",
              "      <td>0</td>\n",
              "      <td>0</td>\n",
              "      <td>0</td>\n",
              "      <td>0</td>\n",
              "      <td>0</td>\n",
              "      <td>0</td>\n",
              "      <td>0</td>\n",
              "      <td>0</td>\n",
              "      <td>0</td>\n",
              "      <td>0</td>\n",
              "      <td>0</td>\n",
              "      <td>0</td>\n",
              "      <td>0</td>\n",
              "      <td>0</td>\n",
              "      <td>0</td>\n",
              "      <td>0</td>\n",
              "      <td>0</td>\n",
              "      <td>0</td>\n",
              "      <td>0</td>\n",
              "      <td>0</td>\n",
              "      <td>...</td>\n",
              "      <td>0</td>\n",
              "      <td>0</td>\n",
              "      <td>0</td>\n",
              "      <td>0</td>\n",
              "      <td>0</td>\n",
              "      <td>0</td>\n",
              "      <td>0</td>\n",
              "      <td>0</td>\n",
              "      <td>0</td>\n",
              "      <td>0</td>\n",
              "      <td>0</td>\n",
              "      <td>0</td>\n",
              "      <td>0</td>\n",
              "      <td>0</td>\n",
              "      <td>0</td>\n",
              "      <td>0</td>\n",
              "      <td>0</td>\n",
              "      <td>0</td>\n",
              "      <td>0</td>\n",
              "      <td>0</td>\n",
              "      <td>0</td>\n",
              "      <td>0</td>\n",
              "      <td>0</td>\n",
              "      <td>0</td>\n",
              "      <td>0</td>\n",
              "      <td>0</td>\n",
              "      <td>0</td>\n",
              "      <td>0</td>\n",
              "      <td>0</td>\n",
              "      <td>0</td>\n",
              "      <td>0</td>\n",
              "      <td>0</td>\n",
              "      <td>0</td>\n",
              "      <td>0</td>\n",
              "      <td>0</td>\n",
              "      <td>0</td>\n",
              "      <td>0</td>\n",
              "      <td>0</td>\n",
              "      <td>0</td>\n",
              "      <td>0</td>\n",
              "    </tr>\n",
              "  </tbody>\n",
              "</table>\n",
              "<p>5 rows × 12123 columns</p>\n",
              "</div>"
            ],
            "text/plain": [
              "   ংঅনেক  ঃ  অ  অঁনেক  অংকুরে  অংগ  ...  য়ায়  য়ে  য়েক  য়েনো  য়ের  য়েলী\n",
              "0      0  0  0      0       0    0  ...    0   0    0     0    0     0\n",
              "1      0  0  0      0       0    0  ...    0   0    0     0    0     0\n",
              "2      0  0  0      0       0    0  ...    0   0    0     0    0     0\n",
              "3      0  0  0      0       0    0  ...    0   0    0     0    0     0\n",
              "4      0  0  0      0       0    0  ...    0   0    0     0    0     0\n",
              "\n",
              "[5 rows x 12123 columns]"
            ]
          },
          "metadata": {},
          "execution_count": 32
        }
      ]
    },
    {
      "cell_type": "code",
      "metadata": {
        "id": "90paTtLJX6Vx"
      },
      "source": [
        "df_conc = pd.concat([vectored_df,df['punctx%']],axis=1)"
      ],
      "execution_count": null,
      "outputs": []
    },
    {
      "cell_type": "code",
      "metadata": {
        "id": "lWmEDgrEX6Vx",
        "colab": {
          "base_uri": "https://localhost:8080/",
          "height": 253
        },
        "outputId": "3216b7dd-065e-4042-c82f-0a248bc5e3cc"
      },
      "source": [
        "df_conc.head()"
      ],
      "execution_count": null,
      "outputs": [
        {
          "output_type": "execute_result",
          "data": {
            "text/html": [
              "<div>\n",
              "<style scoped>\n",
              "    .dataframe tbody tr th:only-of-type {\n",
              "        vertical-align: middle;\n",
              "    }\n",
              "\n",
              "    .dataframe tbody tr th {\n",
              "        vertical-align: top;\n",
              "    }\n",
              "\n",
              "    .dataframe thead th {\n",
              "        text-align: right;\n",
              "    }\n",
              "</style>\n",
              "<table border=\"1\" class=\"dataframe\">\n",
              "  <thead>\n",
              "    <tr style=\"text-align: right;\">\n",
              "      <th></th>\n",
              "      <th>ংঅনেক</th>\n",
              "      <th>ঃ</th>\n",
              "      <th>অ</th>\n",
              "      <th>অঁনেক</th>\n",
              "      <th>অংকুরে</th>\n",
              "      <th>অংগ</th>\n",
              "      <th>অংগভঙ্গি</th>\n",
              "      <th>অংগভঙ্গী</th>\n",
              "      <th>অংশ</th>\n",
              "      <th>অংশগ্রহন</th>\n",
              "      <th>অংশটুকু</th>\n",
              "      <th>অংশে</th>\n",
              "      <th>অঅসাধারণ</th>\n",
              "      <th>অই</th>\n",
              "      <th>অইয়া</th>\n",
              "      <th>অউ</th>\n",
              "      <th>অওসাম</th>\n",
              "      <th>অকল্পনীয়</th>\n",
              "      <th>অকৃএিম</th>\n",
              "      <th>অকৃত্রিম</th>\n",
              "      <th>অক্কল</th>\n",
              "      <th>অক্লান্ত</th>\n",
              "      <th>অক্সিজ</th>\n",
              "      <th>অখাদ্য</th>\n",
              "      <th>অখুশি</th>\n",
              "      <th>অগাস্ট</th>\n",
              "      <th>অগুছালু</th>\n",
              "      <th>অগুছালো</th>\n",
              "      <th>অগোচরে</th>\n",
              "      <th>অগোছালো</th>\n",
              "      <th>অগ্নিকান্ড</th>\n",
              "      <th>অগ্রযাত্</th>\n",
              "      <th>অগ্রসর</th>\n",
              "      <th>অগ্রাধিক</th>\n",
              "      <th>অগ্রাহ্য</th>\n",
              "      <th>অগ্রিম</th>\n",
              "      <th>অগ্রীম</th>\n",
              "      <th>অঙ্গন</th>\n",
              "      <th>অঙ্গনে</th>\n",
              "      <th>অঙ্গবঙ্গি</th>\n",
              "      <th>...</th>\n",
              "      <th>াজ</th>\n",
              "      <th>ামে</th>\n",
              "      <th>িক</th>\n",
              "      <th>িচাল</th>\n",
              "      <th>িচালক</th>\n",
              "      <th>িরিক্ত</th>\n",
              "      <th>িয়াদ</th>\n",
              "      <th>িয়েল</th>\n",
              "      <th>ী</th>\n",
              "      <th>ু</th>\n",
              "      <th>ে</th>\n",
              "      <th>েচয়</th>\n",
              "      <th>েদওয়াতে</th>\n",
              "      <th>েদখা</th>\n",
              "      <th>েয়ার</th>\n",
              "      <th>ো</th>\n",
              "      <th>োঅনেক</th>\n",
              "      <th>্</th>\n",
              "      <th>্য</th>\n",
              "      <th>্যবাদ</th>\n",
              "      <th>্যমান</th>\n",
              "      <th>্যস্ত</th>\n",
              "      <th>্যাংগস</th>\n",
              "      <th>্যাচ</th>\n",
              "      <th>্যি</th>\n",
              "      <th>্যেক</th>\n",
              "      <th>্হাহা</th>\n",
              "      <th>ড়িস</th>\n",
              "      <th>ঢ়ুকায়</th>\n",
              "      <th>য়</th>\n",
              "      <th>য়দি</th>\n",
              "      <th>য়া</th>\n",
              "      <th>য়ার</th>\n",
              "      <th>য়ায়</th>\n",
              "      <th>য়ে</th>\n",
              "      <th>য়েক</th>\n",
              "      <th>য়েনো</th>\n",
              "      <th>য়ের</th>\n",
              "      <th>য়েলী</th>\n",
              "      <th>punctx%</th>\n",
              "    </tr>\n",
              "  </thead>\n",
              "  <tbody>\n",
              "    <tr>\n",
              "      <th>0</th>\n",
              "      <td>0</td>\n",
              "      <td>0</td>\n",
              "      <td>0</td>\n",
              "      <td>0</td>\n",
              "      <td>0</td>\n",
              "      <td>0</td>\n",
              "      <td>0</td>\n",
              "      <td>0</td>\n",
              "      <td>0</td>\n",
              "      <td>0</td>\n",
              "      <td>0</td>\n",
              "      <td>0</td>\n",
              "      <td>0</td>\n",
              "      <td>0</td>\n",
              "      <td>0</td>\n",
              "      <td>0</td>\n",
              "      <td>0</td>\n",
              "      <td>0</td>\n",
              "      <td>0</td>\n",
              "      <td>0</td>\n",
              "      <td>0</td>\n",
              "      <td>0</td>\n",
              "      <td>0</td>\n",
              "      <td>0</td>\n",
              "      <td>0</td>\n",
              "      <td>0</td>\n",
              "      <td>0</td>\n",
              "      <td>0</td>\n",
              "      <td>0</td>\n",
              "      <td>0</td>\n",
              "      <td>0</td>\n",
              "      <td>0</td>\n",
              "      <td>0</td>\n",
              "      <td>0</td>\n",
              "      <td>0</td>\n",
              "      <td>0</td>\n",
              "      <td>0</td>\n",
              "      <td>0</td>\n",
              "      <td>0</td>\n",
              "      <td>0</td>\n",
              "      <td>...</td>\n",
              "      <td>0</td>\n",
              "      <td>0</td>\n",
              "      <td>0</td>\n",
              "      <td>0</td>\n",
              "      <td>0</td>\n",
              "      <td>0</td>\n",
              "      <td>0</td>\n",
              "      <td>0</td>\n",
              "      <td>0</td>\n",
              "      <td>0</td>\n",
              "      <td>0</td>\n",
              "      <td>0</td>\n",
              "      <td>0</td>\n",
              "      <td>0</td>\n",
              "      <td>0</td>\n",
              "      <td>0</td>\n",
              "      <td>0</td>\n",
              "      <td>0</td>\n",
              "      <td>0</td>\n",
              "      <td>0</td>\n",
              "      <td>0</td>\n",
              "      <td>0</td>\n",
              "      <td>0</td>\n",
              "      <td>0</td>\n",
              "      <td>0</td>\n",
              "      <td>0</td>\n",
              "      <td>0</td>\n",
              "      <td>0</td>\n",
              "      <td>0</td>\n",
              "      <td>0</td>\n",
              "      <td>0</td>\n",
              "      <td>0</td>\n",
              "      <td>0</td>\n",
              "      <td>0</td>\n",
              "      <td>0</td>\n",
              "      <td>0</td>\n",
              "      <td>0</td>\n",
              "      <td>0</td>\n",
              "      <td>0</td>\n",
              "      <td>0.00</td>\n",
              "    </tr>\n",
              "    <tr>\n",
              "      <th>1</th>\n",
              "      <td>0</td>\n",
              "      <td>0</td>\n",
              "      <td>0</td>\n",
              "      <td>0</td>\n",
              "      <td>0</td>\n",
              "      <td>0</td>\n",
              "      <td>0</td>\n",
              "      <td>0</td>\n",
              "      <td>0</td>\n",
              "      <td>0</td>\n",
              "      <td>0</td>\n",
              "      <td>0</td>\n",
              "      <td>0</td>\n",
              "      <td>0</td>\n",
              "      <td>0</td>\n",
              "      <td>0</td>\n",
              "      <td>0</td>\n",
              "      <td>0</td>\n",
              "      <td>0</td>\n",
              "      <td>0</td>\n",
              "      <td>0</td>\n",
              "      <td>0</td>\n",
              "      <td>0</td>\n",
              "      <td>0</td>\n",
              "      <td>0</td>\n",
              "      <td>0</td>\n",
              "      <td>0</td>\n",
              "      <td>0</td>\n",
              "      <td>0</td>\n",
              "      <td>0</td>\n",
              "      <td>0</td>\n",
              "      <td>0</td>\n",
              "      <td>0</td>\n",
              "      <td>0</td>\n",
              "      <td>0</td>\n",
              "      <td>0</td>\n",
              "      <td>0</td>\n",
              "      <td>0</td>\n",
              "      <td>0</td>\n",
              "      <td>0</td>\n",
              "      <td>...</td>\n",
              "      <td>0</td>\n",
              "      <td>0</td>\n",
              "      <td>0</td>\n",
              "      <td>0</td>\n",
              "      <td>0</td>\n",
              "      <td>0</td>\n",
              "      <td>0</td>\n",
              "      <td>0</td>\n",
              "      <td>0</td>\n",
              "      <td>0</td>\n",
              "      <td>0</td>\n",
              "      <td>0</td>\n",
              "      <td>0</td>\n",
              "      <td>0</td>\n",
              "      <td>0</td>\n",
              "      <td>0</td>\n",
              "      <td>0</td>\n",
              "      <td>0</td>\n",
              "      <td>0</td>\n",
              "      <td>0</td>\n",
              "      <td>0</td>\n",
              "      <td>0</td>\n",
              "      <td>0</td>\n",
              "      <td>0</td>\n",
              "      <td>0</td>\n",
              "      <td>0</td>\n",
              "      <td>0</td>\n",
              "      <td>0</td>\n",
              "      <td>0</td>\n",
              "      <td>0</td>\n",
              "      <td>0</td>\n",
              "      <td>0</td>\n",
              "      <td>0</td>\n",
              "      <td>0</td>\n",
              "      <td>0</td>\n",
              "      <td>0</td>\n",
              "      <td>0</td>\n",
              "      <td>0</td>\n",
              "      <td>0</td>\n",
              "      <td>0.02</td>\n",
              "    </tr>\n",
              "    <tr>\n",
              "      <th>2</th>\n",
              "      <td>0</td>\n",
              "      <td>0</td>\n",
              "      <td>0</td>\n",
              "      <td>0</td>\n",
              "      <td>0</td>\n",
              "      <td>0</td>\n",
              "      <td>0</td>\n",
              "      <td>0</td>\n",
              "      <td>0</td>\n",
              "      <td>0</td>\n",
              "      <td>0</td>\n",
              "      <td>0</td>\n",
              "      <td>0</td>\n",
              "      <td>0</td>\n",
              "      <td>0</td>\n",
              "      <td>0</td>\n",
              "      <td>0</td>\n",
              "      <td>0</td>\n",
              "      <td>0</td>\n",
              "      <td>0</td>\n",
              "      <td>0</td>\n",
              "      <td>0</td>\n",
              "      <td>0</td>\n",
              "      <td>0</td>\n",
              "      <td>0</td>\n",
              "      <td>0</td>\n",
              "      <td>0</td>\n",
              "      <td>0</td>\n",
              "      <td>0</td>\n",
              "      <td>0</td>\n",
              "      <td>0</td>\n",
              "      <td>0</td>\n",
              "      <td>0</td>\n",
              "      <td>0</td>\n",
              "      <td>0</td>\n",
              "      <td>0</td>\n",
              "      <td>0</td>\n",
              "      <td>0</td>\n",
              "      <td>0</td>\n",
              "      <td>0</td>\n",
              "      <td>...</td>\n",
              "      <td>0</td>\n",
              "      <td>0</td>\n",
              "      <td>0</td>\n",
              "      <td>0</td>\n",
              "      <td>0</td>\n",
              "      <td>0</td>\n",
              "      <td>0</td>\n",
              "      <td>0</td>\n",
              "      <td>0</td>\n",
              "      <td>0</td>\n",
              "      <td>0</td>\n",
              "      <td>0</td>\n",
              "      <td>0</td>\n",
              "      <td>0</td>\n",
              "      <td>0</td>\n",
              "      <td>0</td>\n",
              "      <td>0</td>\n",
              "      <td>0</td>\n",
              "      <td>0</td>\n",
              "      <td>0</td>\n",
              "      <td>0</td>\n",
              "      <td>0</td>\n",
              "      <td>0</td>\n",
              "      <td>0</td>\n",
              "      <td>0</td>\n",
              "      <td>0</td>\n",
              "      <td>0</td>\n",
              "      <td>0</td>\n",
              "      <td>0</td>\n",
              "      <td>0</td>\n",
              "      <td>0</td>\n",
              "      <td>0</td>\n",
              "      <td>0</td>\n",
              "      <td>0</td>\n",
              "      <td>0</td>\n",
              "      <td>0</td>\n",
              "      <td>0</td>\n",
              "      <td>0</td>\n",
              "      <td>0</td>\n",
              "      <td>0.01</td>\n",
              "    </tr>\n",
              "    <tr>\n",
              "      <th>3</th>\n",
              "      <td>0</td>\n",
              "      <td>0</td>\n",
              "      <td>0</td>\n",
              "      <td>0</td>\n",
              "      <td>0</td>\n",
              "      <td>0</td>\n",
              "      <td>0</td>\n",
              "      <td>0</td>\n",
              "      <td>0</td>\n",
              "      <td>0</td>\n",
              "      <td>0</td>\n",
              "      <td>0</td>\n",
              "      <td>0</td>\n",
              "      <td>0</td>\n",
              "      <td>0</td>\n",
              "      <td>0</td>\n",
              "      <td>0</td>\n",
              "      <td>0</td>\n",
              "      <td>0</td>\n",
              "      <td>0</td>\n",
              "      <td>0</td>\n",
              "      <td>0</td>\n",
              "      <td>0</td>\n",
              "      <td>0</td>\n",
              "      <td>0</td>\n",
              "      <td>0</td>\n",
              "      <td>0</td>\n",
              "      <td>0</td>\n",
              "      <td>0</td>\n",
              "      <td>0</td>\n",
              "      <td>0</td>\n",
              "      <td>0</td>\n",
              "      <td>0</td>\n",
              "      <td>0</td>\n",
              "      <td>0</td>\n",
              "      <td>0</td>\n",
              "      <td>0</td>\n",
              "      <td>0</td>\n",
              "      <td>0</td>\n",
              "      <td>0</td>\n",
              "      <td>...</td>\n",
              "      <td>0</td>\n",
              "      <td>0</td>\n",
              "      <td>0</td>\n",
              "      <td>0</td>\n",
              "      <td>0</td>\n",
              "      <td>0</td>\n",
              "      <td>0</td>\n",
              "      <td>0</td>\n",
              "      <td>0</td>\n",
              "      <td>0</td>\n",
              "      <td>0</td>\n",
              "      <td>0</td>\n",
              "      <td>0</td>\n",
              "      <td>0</td>\n",
              "      <td>0</td>\n",
              "      <td>0</td>\n",
              "      <td>0</td>\n",
              "      <td>0</td>\n",
              "      <td>0</td>\n",
              "      <td>0</td>\n",
              "      <td>0</td>\n",
              "      <td>0</td>\n",
              "      <td>0</td>\n",
              "      <td>0</td>\n",
              "      <td>0</td>\n",
              "      <td>0</td>\n",
              "      <td>0</td>\n",
              "      <td>0</td>\n",
              "      <td>0</td>\n",
              "      <td>0</td>\n",
              "      <td>0</td>\n",
              "      <td>0</td>\n",
              "      <td>0</td>\n",
              "      <td>0</td>\n",
              "      <td>0</td>\n",
              "      <td>0</td>\n",
              "      <td>0</td>\n",
              "      <td>0</td>\n",
              "      <td>0</td>\n",
              "      <td>0.10</td>\n",
              "    </tr>\n",
              "    <tr>\n",
              "      <th>4</th>\n",
              "      <td>0</td>\n",
              "      <td>0</td>\n",
              "      <td>0</td>\n",
              "      <td>0</td>\n",
              "      <td>0</td>\n",
              "      <td>0</td>\n",
              "      <td>0</td>\n",
              "      <td>0</td>\n",
              "      <td>0</td>\n",
              "      <td>0</td>\n",
              "      <td>0</td>\n",
              "      <td>0</td>\n",
              "      <td>0</td>\n",
              "      <td>0</td>\n",
              "      <td>0</td>\n",
              "      <td>0</td>\n",
              "      <td>0</td>\n",
              "      <td>0</td>\n",
              "      <td>0</td>\n",
              "      <td>0</td>\n",
              "      <td>0</td>\n",
              "      <td>0</td>\n",
              "      <td>0</td>\n",
              "      <td>0</td>\n",
              "      <td>0</td>\n",
              "      <td>0</td>\n",
              "      <td>0</td>\n",
              "      <td>0</td>\n",
              "      <td>0</td>\n",
              "      <td>0</td>\n",
              "      <td>0</td>\n",
              "      <td>0</td>\n",
              "      <td>0</td>\n",
              "      <td>0</td>\n",
              "      <td>0</td>\n",
              "      <td>0</td>\n",
              "      <td>0</td>\n",
              "      <td>0</td>\n",
              "      <td>0</td>\n",
              "      <td>0</td>\n",
              "      <td>...</td>\n",
              "      <td>0</td>\n",
              "      <td>0</td>\n",
              "      <td>0</td>\n",
              "      <td>0</td>\n",
              "      <td>0</td>\n",
              "      <td>0</td>\n",
              "      <td>0</td>\n",
              "      <td>0</td>\n",
              "      <td>0</td>\n",
              "      <td>0</td>\n",
              "      <td>0</td>\n",
              "      <td>0</td>\n",
              "      <td>0</td>\n",
              "      <td>0</td>\n",
              "      <td>0</td>\n",
              "      <td>0</td>\n",
              "      <td>0</td>\n",
              "      <td>0</td>\n",
              "      <td>0</td>\n",
              "      <td>0</td>\n",
              "      <td>0</td>\n",
              "      <td>0</td>\n",
              "      <td>0</td>\n",
              "      <td>0</td>\n",
              "      <td>0</td>\n",
              "      <td>0</td>\n",
              "      <td>0</td>\n",
              "      <td>0</td>\n",
              "      <td>0</td>\n",
              "      <td>0</td>\n",
              "      <td>0</td>\n",
              "      <td>0</td>\n",
              "      <td>0</td>\n",
              "      <td>0</td>\n",
              "      <td>0</td>\n",
              "      <td>0</td>\n",
              "      <td>0</td>\n",
              "      <td>0</td>\n",
              "      <td>0</td>\n",
              "      <td>0.00</td>\n",
              "    </tr>\n",
              "  </tbody>\n",
              "</table>\n",
              "<p>5 rows × 12124 columns</p>\n",
              "</div>"
            ],
            "text/plain": [
              "   ংঅনেক  ঃ  অ  অঁনেক  অংকুরে  অংগ  ...  য়ে  য়েক  য়েনো  য়ের  য়েলী  punctx%\n",
              "0      0  0  0      0       0    0  ...   0    0     0    0     0     0.00\n",
              "1      0  0  0      0       0    0  ...   0    0     0    0     0     0.02\n",
              "2      0  0  0      0       0    0  ...   0    0     0    0     0     0.01\n",
              "3      0  0  0      0       0    0  ...   0    0     0    0     0     0.10\n",
              "4      0  0  0      0       0    0  ...   0    0     0    0     0     0.00\n",
              "\n",
              "[5 rows x 12124 columns]"
            ]
          },
          "metadata": {},
          "execution_count": 34
        }
      ]
    },
    {
      "cell_type": "markdown",
      "metadata": {
        "id": "h8zl7kNWX6Vx"
      },
      "source": [
        "# Applying Classifier Models"
      ]
    },
    {
      "cell_type": "code",
      "metadata": {
        "id": "Y7VcfKZfX6Vy"
      },
      "source": [
        "from sklearn.model_selection import train_test_split"
      ],
      "execution_count": null,
      "outputs": []
    },
    {
      "cell_type": "code",
      "metadata": {
        "id": "zYRcDVidX6Vy"
      },
      "source": [
        "X_train, X_test, y_train, y_test = train_test_split(df_conc, df['status'],test_size=0.2)"
      ],
      "execution_count": null,
      "outputs": []
    },
    {
      "cell_type": "code",
      "metadata": {
        "id": "IsvQu6WhX6Vy"
      },
      "source": [
        "from sklearn.ensemble import RandomForestClassifier"
      ],
      "execution_count": null,
      "outputs": []
    },
    {
      "cell_type": "code",
      "metadata": {
        "id": "3fl0W39VX6Vy",
        "colab": {
          "base_uri": "https://localhost:8080/",
          "height": 204
        },
        "outputId": "fdf487c3-0e1d-4928-bdbe-77b23fb975a7"
      },
      "source": [
        "df.head()"
      ],
      "execution_count": null,
      "outputs": [
        {
          "output_type": "execute_result",
          "data": {
            "text/html": [
              "<div>\n",
              "<style scoped>\n",
              "    .dataframe tbody tr th:only-of-type {\n",
              "        vertical-align: middle;\n",
              "    }\n",
              "\n",
              "    .dataframe tbody tr th {\n",
              "        vertical-align: top;\n",
              "    }\n",
              "\n",
              "    .dataframe thead th {\n",
              "        text-align: right;\n",
              "    }\n",
              "</style>\n",
              "<table border=\"1\" class=\"dataframe\">\n",
              "  <thead>\n",
              "    <tr style=\"text-align: right;\">\n",
              "      <th></th>\n",
              "      <th>Review</th>\n",
              "      <th>status</th>\n",
              "      <th>punctx%</th>\n",
              "      <th>body_length</th>\n",
              "      <th>cleaned</th>\n",
              "    </tr>\n",
              "  </thead>\n",
              "  <tbody>\n",
              "    <tr>\n",
              "      <th>0</th>\n",
              "      <td>আরাফান নিশু ভাই নাটকটা সত্যি ভাল লাগছে</td>\n",
              "      <td>positive</td>\n",
              "      <td>0.00</td>\n",
              "      <td>32</td>\n",
              "      <td>[আরাফান, নিশু, ভাই, নাটক, সত্যি, ভাল, লাগ]</td>\n",
              "    </tr>\n",
              "    <tr>\n",
              "      <th>1</th>\n",
              "      <td>নাটকটা অনেক ভালোছিল। এই অভিনেত্রী অভিনেতারা গ...</td>\n",
              "      <td>positive</td>\n",
              "      <td>0.02</td>\n",
              "      <td>78</td>\n",
              "      <td>[নাটক, ভালোছিল, অভিনেত্রী, অভিনেতা, গ্রামগঞ্জ,...</td>\n",
              "    </tr>\n",
              "    <tr>\n",
              "      <th>2</th>\n",
              "      <td>নাটকে ওর বাপটাকে সহ্য হচ্ছে না। কুত্তা মার্কা ...</td>\n",
              "      <td>negative</td>\n",
              "      <td>0.01</td>\n",
              "      <td>42</td>\n",
              "      <td>[নাট, বাপ, সহ্য, হচ্, কুত্তা, মার্কা, নাটক]</td>\n",
              "    </tr>\n",
              "    <tr>\n",
              "      <th>3</th>\n",
              "      <td>নাপাক কুত্তা যে জিনিষে লাগে তা ৭বার ধৌত করতে ...</td>\n",
              "      <td>negative</td>\n",
              "      <td>0.10</td>\n",
              "      <td>91</td>\n",
              "      <td>[নাপাক, কুত্তা, জিনিষে, লাগে, ধৌত, কর, দেখলা, ...</td>\n",
              "    </tr>\n",
              "    <tr>\n",
              "      <th>4</th>\n",
              "      <td>দেখে আনন্দ পেয়েছি খুব ভালো লাগলো</td>\n",
              "      <td>positive</td>\n",
              "      <td>0.00</td>\n",
              "      <td>27</td>\n",
              "      <td>[দাখ, আনন্দ, পেয়েছি, ভালো, লাগলো]</td>\n",
              "    </tr>\n",
              "  </tbody>\n",
              "</table>\n",
              "</div>"
            ],
            "text/plain": [
              "                                              Review  ...                                            cleaned\n",
              "0             আরাফান নিশু ভাই নাটকটা সত্যি ভাল লাগছে  ...         [আরাফান, নিশু, ভাই, নাটক, সত্যি, ভাল, লাগ]\n",
              "1   নাটকটা অনেক ভালোছিল। এই অভিনেত্রী অভিনেতারা গ...  ...  [নাটক, ভালোছিল, অভিনেত্রী, অভিনেতা, গ্রামগঞ্জ,...\n",
              "2  নাটকে ওর বাপটাকে সহ্য হচ্ছে না। কুত্তা মার্কা ...  ...        [নাট, বাপ, সহ্য, হচ্, কুত্তা, মার্কা, নাটক]\n",
              "3   নাপাক কুত্তা যে জিনিষে লাগে তা ৭বার ধৌত করতে ...  ...  [নাপাক, কুত্তা, জিনিষে, লাগে, ধৌত, কর, দেখলা, ...\n",
              "4                   দেখে আনন্দ পেয়েছি খুব ভালো লাগলো  ...                  [দাখ, আনন্দ, পেয়েছি, ভালো, লাগলো]\n",
              "\n",
              "[5 rows x 5 columns]"
            ]
          },
          "metadata": {},
          "execution_count": 38
        }
      ]
    },
    {
      "cell_type": "code",
      "metadata": {
        "id": "vuV5YNXypLSV"
      },
      "source": [
        "from sklearn.linear_model import LogisticRegression"
      ],
      "execution_count": null,
      "outputs": []
    },
    {
      "cell_type": "code",
      "metadata": {
        "id": "OdtWZ8oZpPet"
      },
      "source": [
        "lr = LogisticRegression(n_jobs=-1)\n",
        "lr_model = lr.fit(X_train, y_train)\n",
        "lr_pred = lr_model.predict(X_test)"
      ],
      "execution_count": null,
      "outputs": []
    },
    {
      "cell_type": "code",
      "metadata": {
        "id": "6YocIoj2X6Vy"
      },
      "source": [
        "import numpy as np"
      ],
      "execution_count": null,
      "outputs": []
    },
    {
      "cell_type": "code",
      "metadata": {
        "id": "Z9kW1KjeX6Vy"
      },
      "source": [
        "from sklearn.ensemble import RandomForestClassifier"
      ],
      "execution_count": null,
      "outputs": []
    },
    {
      "cell_type": "code",
      "metadata": {
        "id": "KgfVgMnHX6Vy"
      },
      "source": [
        "rf = RandomForestClassifier(n_jobs=-1)\n",
        "rf_model = rf.fit(X_train, y_train)\n",
        "rf_pred =rf_model.predict(X_test)"
      ],
      "execution_count": null,
      "outputs": []
    },
    {
      "cell_type": "code",
      "metadata": {
        "id": "Lqtvy9tLX6Vy",
        "colab": {
          "base_uri": "https://localhost:8080/"
        },
        "outputId": "bbe4c74f-f4a3-4292-acc9-71953ef1d05e"
      },
      "source": [
        "sorted(zip(rf_model.feature_importances_,X_train.columns),reverse=True)[:10]"
      ],
      "execution_count": null,
      "outputs": [
        {
          "output_type": "execute_result",
          "data": {
            "text/plain": [
              "[(0.08146483153732913, 'ফালতু'),\n",
              " (0.03851296124379366, 'অসাধারণ'),\n",
              " (0.030905717267643747, 'বাল'),\n",
              " (0.02849212280220643, 'সুন্দর'),\n",
              " (0.026425791841373933, 'বাজে'),\n",
              " (0.01847080958736742, 'ভালো'),\n",
              " (0.018003542673882055, 'punctx%'),\n",
              " (0.014347076463246062, 'অসাধারন'),\n",
              " (0.012017068953098495, 'সের'),\n",
              " (0.009330701926613637, 'ধন্যবাদ')]"
            ]
          },
          "metadata": {},
          "execution_count": 44
        }
      ]
    },
    {
      "cell_type": "code",
      "metadata": {
        "id": "lCLz11M3X6Vz"
      },
      "source": [
        "from sklearn.naive_bayes import MultinomialNB"
      ],
      "execution_count": null,
      "outputs": []
    },
    {
      "cell_type": "code",
      "metadata": {
        "id": "Uy5Cc7utX6Vz"
      },
      "source": [
        "nb = MultinomialNB(alpha=2.0, class_prior=None, \n",
        "fit_prior=True)\n",
        "nb_model = nb.fit(X_train, y_train)\n",
        "nb_pred =nb_model.predict(X_test)"
      ],
      "execution_count": null,
      "outputs": []
    },
    {
      "cell_type": "code",
      "metadata": {
        "id": "9k-n7CBBX6Vz"
      },
      "source": [
        "from sklearn.neighbors import KNeighborsClassifier"
      ],
      "execution_count": null,
      "outputs": []
    },
    {
      "cell_type": "code",
      "metadata": {
        "id": "HqvFEJMzX6Vz"
      },
      "source": [
        "kn = KNeighborsClassifier(n_jobs=-1,n_neighbors=7)\n",
        "kn_model = kn.fit(X_train, y_train)\n",
        "kn_pred = kn_model.predict(X_test)"
      ],
      "execution_count": null,
      "outputs": []
    },
    {
      "cell_type": "markdown",
      "metadata": {
        "id": "47dGtwacX6Vz"
      },
      "source": [
        "# Reports"
      ]
    },
    {
      "cell_type": "code",
      "metadata": {
        "colab": {
          "base_uri": "https://localhost:8080/"
        },
        "id": "KAeel06jC8dk",
        "outputId": "03f9196c-b3ed-42ae-c5cc-786c88ca6bc8"
      },
      "source": [
        "!pip install seaborn"
      ],
      "execution_count": null,
      "outputs": [
        {
          "output_type": "stream",
          "text": [
            "Requirement already satisfied: seaborn in /usr/local/lib/python3.7/dist-packages (0.11.1)\n",
            "Requirement already satisfied: numpy>=1.15 in /usr/local/lib/python3.7/dist-packages (from seaborn) (1.19.5)\n",
            "Requirement already satisfied: matplotlib>=2.2 in /usr/local/lib/python3.7/dist-packages (from seaborn) (3.2.2)\n",
            "Requirement already satisfied: pandas>=0.23 in /usr/local/lib/python3.7/dist-packages (from seaborn) (1.1.5)\n",
            "Requirement already satisfied: scipy>=1.0 in /usr/local/lib/python3.7/dist-packages (from seaborn) (1.4.1)\n",
            "Requirement already satisfied: kiwisolver>=1.0.1 in /usr/local/lib/python3.7/dist-packages (from matplotlib>=2.2->seaborn) (1.3.1)\n",
            "Requirement already satisfied: cycler>=0.10 in /usr/local/lib/python3.7/dist-packages (from matplotlib>=2.2->seaborn) (0.10.0)\n",
            "Requirement already satisfied: pyparsing!=2.0.4,!=2.1.2,!=2.1.6,>=2.0.1 in /usr/local/lib/python3.7/dist-packages (from matplotlib>=2.2->seaborn) (2.4.7)\n",
            "Requirement already satisfied: python-dateutil>=2.1 in /usr/local/lib/python3.7/dist-packages (from matplotlib>=2.2->seaborn) (2.8.2)\n",
            "Requirement already satisfied: six in /usr/local/lib/python3.7/dist-packages (from cycler>=0.10->matplotlib>=2.2->seaborn) (1.15.0)\n",
            "Requirement already satisfied: pytz>=2017.2 in /usr/local/lib/python3.7/dist-packages (from pandas>=0.23->seaborn) (2018.9)\n"
          ],
          "name": "stdout"
        }
      ]
    },
    {
      "cell_type": "code",
      "metadata": {
        "id": "swY4pfqXX6Vz"
      },
      "source": [
        "from sklearn.metrics import accuracy_score,classification_report,confusion_matrix"
      ],
      "execution_count": null,
      "outputs": []
    },
    {
      "cell_type": "code",
      "metadata": {
        "id": "P1AiZ-7pC_5C"
      },
      "source": [
        "import seaborn as sn"
      ],
      "execution_count": null,
      "outputs": []
    },
    {
      "cell_type": "code",
      "metadata": {
        "id": "VVPuE4mZPBCv"
      },
      "source": [
        "from sklearn.model_selection import KFold, cross_val_score"
      ],
      "execution_count": null,
      "outputs": []
    },
    {
      "cell_type": "code",
      "metadata": {
        "id": "jV9y38SBFjdI"
      },
      "source": [
        "def draw_confusion_plot(model_prediction):\n",
        "    df_cm = np.array(confusion_matrix(y_test, model_prediction))\n",
        "    pyplot.figure(figsize=(10,7))\n",
        "    labels=['positive','negative','spam']\n",
        "    sn.set(font_scale=1.4) \n",
        "    sn.heatmap(df_cm, annot=True, annot_kws={\"size\": 16}, fmt='d', xticklabels=labels,yticklabels=labels) \n",
        "    pyplot.xlabel=('status')\n",
        "    pyplot.show()"
      ],
      "execution_count": null,
      "outputs": []
    },
    {
      "cell_type": "markdown",
      "metadata": {
        "id": "rMB5RlMIX6Vz"
      },
      "source": [
        "## Model: Random Forest\n",
        "## Accuracy>90%"
      ]
    },
    {
      "cell_type": "code",
      "metadata": {
        "id": "2DYIF9meX6Vz",
        "colab": {
          "base_uri": "https://localhost:8080/"
        },
        "outputId": "b2c8446a-35ae-4e81-c683-fce78f65979a"
      },
      "source": [
        "print(classification_report(y_test, rf_pred))"
      ],
      "execution_count": null,
      "outputs": [
        {
          "output_type": "stream",
          "text": [
            "              precision    recall  f1-score   support\n",
            "\n",
            "    negative       0.90      0.77      0.83       654\n",
            "    positive       0.91      0.97      0.94      1699\n",
            "        spam       1.00      0.86      0.92        49\n",
            "\n",
            "    accuracy                           0.91      2402\n",
            "   macro avg       0.94      0.87      0.90      2402\n",
            "weighted avg       0.91      0.91      0.91      2402\n",
            "\n"
          ],
          "name": "stdout"
        }
      ]
    },
    {
      "cell_type": "code",
      "metadata": {
        "colab": {
          "base_uri": "https://localhost:8080/",
          "height": 436
        },
        "id": "yKFUJGw8DDBn",
        "outputId": "6c316158-8358-4c5e-e304-ab7698c83750"
      },
      "source": [
        "draw_confusion_plot(rf_pred)"
      ],
      "execution_count": null,
      "outputs": [
        {
          "output_type": "display_data",
          "data": {
            "image/png": "[encoded data removed]",
            "text/plain": [
              "<Figure size 720x504 with 2 Axes>"
            ]
          },
          "metadata": {
            "needs_background": "light"
          }
        }
      ]
    },
    {
      "cell_type": "markdown",
      "metadata": {
        "id": "mrmdvKQNX6V0"
      },
      "source": [
        "## Model: KNN\n",
        "## Accuracy>85%"
      ]
    },
    {
      "cell_type": "code",
      "metadata": {
        "id": "RtYirAsrX6V0",
        "colab": {
          "base_uri": "https://localhost:8080/"
        },
        "outputId": "dd546f94-e319-417a-955b-0722cf35f79a"
      },
      "source": [
        "print(classification_report(y_test, kn_pred))"
      ],
      "execution_count": null,
      "outputs": [
        {
          "output_type": "stream",
          "text": [
            "              precision    recall  f1-score   support\n",
            "\n",
            "    negative       0.82      0.64      0.72       654\n",
            "    positive       0.86      0.96      0.91      1699\n",
            "        spam       1.00      0.10      0.19        49\n",
            "\n",
            "    accuracy                           0.85      2402\n",
            "   macro avg       0.89      0.57      0.60      2402\n",
            "weighted avg       0.85      0.85      0.84      2402\n",
            "\n"
          ],
          "name": "stdout"
        }
      ]
    },
    {
      "cell_type": "code",
      "metadata": {
        "colab": {
          "base_uri": "https://localhost:8080/",
          "height": 436
        },
        "id": "c7hiUDNZDTxe",
        "outputId": "270efec2-c32c-4b03-ed50-c8095a3f90e9"
      },
      "source": [
        "draw_confusion_plot(kn_pred)"
      ],
      "execution_count": null,
      "outputs": [
        {
          "output_type": "display_data",
          "data": {
            "image/png": "[encoded data removed]",
            "text/plain": [
              "<Figure size 720x504 with 2 Axes>"
            ]
          },
          "metadata": {}
        }
      ]
    },
    {
      "cell_type": "markdown",
      "metadata": {
        "id": "dGi0zAOyX6V0"
      },
      "source": [
        "## Model: Naive Bayes\n",
        "## Accuracy>90%"
      ]
    },
    {
      "cell_type": "code",
      "metadata": {
        "id": "fkCXtmcYX6V0",
        "colab": {
          "base_uri": "https://localhost:8080/"
        },
        "outputId": "adb42021-5a7d-460c-cf18-83646d98e1e8"
      },
      "source": [
        "print(classification_report(y_test, nb_pred))"
      ],
      "execution_count": null,
      "outputs": [
        {
          "output_type": "stream",
          "text": [
            "              precision    recall  f1-score   support\n",
            "\n",
            "    negative       0.94      0.75      0.83       654\n",
            "    positive       0.91      0.98      0.95      1699\n",
            "        spam       1.00      0.92      0.96        49\n",
            "\n",
            "    accuracy                           0.92      2402\n",
            "   macro avg       0.95      0.88      0.91      2402\n",
            "weighted avg       0.92      0.92      0.91      2402\n",
            "\n"
          ],
          "name": "stdout"
        }
      ]
    },
    {
      "cell_type": "code",
      "metadata": {
        "colab": {
          "base_uri": "https://localhost:8080/"
        },
        "id": "t-4fYldADWsL",
        "outputId": "7ecc0b77-4113-40c1-c536-2530d2b0147f"
      },
      "source": [
        "draw_confusion_plot(nb_pred)"
      ],
      "execution_count": null,
      "outputs": [
        {
          "output_type": "display_data",
          "data": {
            "image/png": "[encoded data removed]",
            "text/plain": [
              "<Figure size 720x504 with 2 Axes>"
            ]
          },
          "metadata": {}
        }
      ]
    },
    {
      "cell_type": "markdown",
      "metadata": {
        "id": "I3PED-i5p8UB"
      },
      "source": [
        "## Model: Logistic Regression\n",
        "## Accuracy>90%"
      ]
    },
    {
      "cell_type": "code",
      "metadata": {
        "id": "7hFTzS5Fp9MI",
        "colab": {
          "base_uri": "https://localhost:8080/"
        },
        "outputId": "7ce7525c-efd2-4297-daf0-8a611c2a4786"
      },
      "source": [
        "print(classification_report(y_test, lr_pred))"
      ],
      "execution_count": null,
      "outputs": [
        {
          "output_type": "stream",
          "text": [
            "              precision    recall  f1-score   support\n",
            "\n",
            "    negative       0.89      0.85      0.87       654\n",
            "    positive       0.94      0.96      0.95      1699\n",
            "        spam       1.00      0.86      0.92        49\n",
            "\n",
            "    accuracy                           0.93      2402\n",
            "   macro avg       0.94      0.89      0.91      2402\n",
            "weighted avg       0.93      0.93      0.93      2402\n",
            "\n"
          ],
          "name": "stdout"
        }
      ]
    },
    {
      "cell_type": "code",
      "metadata": {
        "colab": {
          "base_uri": "https://localhost:8080/"
        },
        "id": "l5iYVYj1Dapj",
        "outputId": "d0f1173d-c2ea-4209-ca8c-6eb748ed9154"
      },
      "source": [
        "draw_confusion_plot(lr_pred)"
      ],
      "execution_count": null,
      "outputs": [
        {
          "output_type": "display_data",
          "data": {
            "image/png": "[encoded data removed]",
            "text/plain": [
              "<Figure size 720x504 with 2 Axes>"
            ]
          },
          "metadata": {}
        }
      ]
    }
  ]
}